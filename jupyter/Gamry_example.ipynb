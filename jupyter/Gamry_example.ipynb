{
 "cells": [
  {
   "cell_type": "code",
   "execution_count": 1,
   "metadata": {},
   "outputs": [],
   "source": [
    "import matplotlib.pyplot as plt\n",
    "import numpy as np\n",
    "import pandas as pd\n",
    "\n",
    "from eisfit.circuits import Randles, DefineCircuit, BaseCircuit\n",
    "from eisfit.preprocessing import readFile"
   ]
  },
  {
   "cell_type": "code",
   "execution_count": 2,
   "metadata": {},
   "outputs": [],
   "source": [
    "# read data\n",
    "data = np.genfromtxt('eisfit/tests/Z1tofit.csv', delimiter=',')"
   ]
  },
  {
   "cell_type": "code",
   "execution_count": 3,
   "metadata": {},
   "outputs": [],
   "source": [
    "frequencies = data[:,0]\n",
    "Z = data[:,1] + 1j*data[:,2]"
   ]
  },
  {
   "cell_type": "code",
   "execution_count": 4,
   "metadata": {},
   "outputs": [
    {
     "name": "stdout",
     "output_type": "stream",
     "text": [
      "\n",
      "-------------------------------\n",
      "Circuit: Randles\n",
      "Circuit string: R_0-p(R_1,C_1)-W_1/W_2\n",
      "Algorithm: leastsq\n",
      "Fit: False\n",
      "Initial guesses:\n",
      "\tR_0 = 1.00e-02\n",
      "\tR_1 = 5.00e-03\n",
      "\tC_1 = 1.00e-01\n",
      "\tW_1 = 1.00e-03\n",
      "\tW_2 = 2.00e+02\n",
      "\n",
      "-------------------------------\n",
      "\n",
      "\n",
      "-------------------------------\n",
      "Circuit: Randles\n",
      "Circuit string: R_0-p(R_1,C_1)-W_1/W_2\n",
      "Algorithm: leastsq\n",
      "Fit: True\n",
      "Fit parameters:\n",
      "\tR_0 = 1.87e-02\n",
      "\tR_1 = 1.17e-02\n",
      "\tC_1 = 1.36e+00\n",
      "\tW_1 = 8.86e-01\n",
      "\tW_2 = 4.78e+04\n",
      "\n",
      "-------------------------------\n",
      "\n"
     ]
    },
    {
     "data": {
      "image/png": "[encoded data removed]",
      "text/plain": [
       "<Figure size 720x720 with 1 Axes>"
      ]
     },
     "metadata": {},
     "output_type": "display_data"
    }
   ],
   "source": [
    "# instantiate the circuit and fit it to the data\n",
    "circuit = DefineCircuit(initial_guess=[.01, .005, .1, .005, .1, .001, 200], circuit='R_0-p(R_1,C_1)-p(R_1,C_1)-W_1/W_2')\n",
    "\n",
    "circuit = Randles(initial_guess=[.01, .005, .1, .7, .001, 200], CPE=True)\n",
    "circuit = Randles(initial_guess=[.01, .005, .1, .001, 200])\n",
    "\n",
    "print('circuit)\n",
    "circuit.fit(frequencies[np.imag(Z) < 0], Z[np.imag(Z) < 0])\n",
    "print(circuit)\n",
    "Z_fit = circuit.predict(frequencies[np.imag(Z) < 0])\n",
    "\n",
    "# plot the data and the fit\n",
    "fig, ax = plt.subplots(figsize=(10,10))\n",
    "ax.plot(np.real(Z[np.imag(Z) < 0]), -np.imag(Z[np.imag(Z) < 0]), 'o')\n",
    "ax.plot(np.real(Z_fit), -np.imag(Z_fit), '.-', lw=3)\n",
    "ax.set_aspect('equal')\n",
    "\n",
    "plt.show()"
   ]
  },
  {
   "cell_type": "code",
   "execution_count": 7,
   "metadata": {},
   "outputs": [
    {
     "data": {
      "text/plain": [
       "[0.01, 0.005, 0.1, 0.001, 200]"
      ]
     },
     "execution_count": 7,
     "metadata": {},
     "output_type": "execute_result"
    }
   ],
   "source": [
    "circuit.initial_guess"
   ]
  },
  {
   "cell_type": "code",
   "execution_count": 24,
   "metadata": {},
   "outputs": [
    {
     "data": {
      "text/plain": [
       "True"
      ]
     },
     "execution_count": 24,
     "metadata": {},
     "output_type": "execute_result"
    }
   ],
   "source": [
    "isinstance(frequencies[0], (float, int, np.float64, np.int32))"
   ]
  },
  {
   "cell_type": "code",
   "execution_count": 5,
   "metadata": {},
   "outputs": [],
   "source": [
    "circuit = 'R_0-p(R_1,C_1)-W_1/W_2'"
   ]
  },
  {
   "cell_type": "code",
   "execution_count": 17,
   "metadata": {},
   "outputs": [
    {
     "data": {
      "text/plain": [
       "['R_0', 'R_1', 'C_1', 'W_1', 'W_2']"
      ]
     },
     "execution_count": 17,
     "metadata": {},
     "output_type": "execute_result"
    }
   ],
   "source": [
    "circuit = 'R_0-p(R_1,C_1)-W_1/W_2'\n",
    "circuit = circuit.replace('p', '').replace('(','').replace(')', '')\n",
    "names = circuit.replace(',','-').replace('/','-').split('-')\n",
    "names"
   ]
  },
  {
   "cell_type": "code",
   "execution_count": 9,
   "metadata": {},
   "outputs": [
    {
     "data": {
      "text/plain": [
       "[['R_0'], ['p(R_1,C_1)'], ['W_1', 'W_2']]"
      ]
     },
     "execution_count": 9,
     "metadata": {},
     "output_type": "execute_result"
    }
   ],
   "source": [
    "[x.split('/') for x in circuit.split('-')]"
   ]
  },
  {
   "cell_type": "code",
   "execution_count": 2,
   "metadata": {},
   "outputs": [
    {
     "data": {
      "image/png": "[encoded data removed]",
      "text/plain": [
       "<Figure size 432x288 with 1 Axes>"
      ]
     },
     "metadata": {},
     "output_type": "display_data"
    }
   ],
   "source": [
    "f, Z = readFile('./examples/data/exampleData.csv')\n",
    "\n",
    "fig, ax = plt.subplots()\n",
    "plt.plot(Z.real, -Z.imag, 'o-')\n",
    "ax.set_aspect('equal')\n",
    "plt.show()"
   ]
  },
  {
   "cell_type": "code",
   "execution_count": 3,
   "metadata": {},
   "outputs": [],
   "source": [
    "filename = './Chalco-in-buffer-50mV.DTA'\n",
    "\n",
    "with open(filename, 'r', encoding='ISO-8859-1') as input:\n",
    "        lines = input.readlines()"
   ]
  },
  {
   "cell_type": "code",
   "execution_count": 5,
   "metadata": {},
   "outputs": [],
   "source": [
    "for i, line in enumerate(lines):\n",
    "    if 'ZCURVE' in line:\n",
    "        start_line = i"
   ]
  },
  {
   "cell_type": "code",
   "execution_count": 7,
   "metadata": {},
   "outputs": [],
   "source": [
    "raw_data = lines[start_line + 3:]\n",
    "f, Z = [], []\n",
    "for line in raw_data:\n",
    "    each = line.split()\n",
    "    f.append(float(each[2]))\n",
    "    Z.append(complex(float(each[3]), float(each[4])))"
   ]
  },
  {
   "cell_type": "code",
   "execution_count": 16,
   "metadata": {},
   "outputs": [
    {
     "data": {
      "text/plain": [
       "array([-1367.239  , -1502.195  , -1621.813  , -1672.93   , -1668.395  ,\n",
       "       -1620.144  , -1506.859  , -1407.856  , -1266.296  , -1091.802  ,\n",
       "        -947.1432 ,  -813.0331 ,  -704.9116 ,  -606.206  ,  -516.6904 ,\n",
       "        -439.2898 ,  -382.0586 ,  -327.8677 ,  -279.8773 ,  -247.0336 ,\n",
       "        -214.7129 ,  -187.785  ,  -163.6504 ,  -146.0875 ,  -128.724  ,\n",
       "        -114.1715 ,  -105.0351 ,   -95.6213 ,   -88.8763 ,   -82.36904,\n",
       "         -77.56557,   -73.49171,   -70.95162,   -68.13791,   -69.87909,\n",
       "         -68.70265,   -73.79854,   -78.35508,   -81.94554,   -94.86475,\n",
       "        -104.9407 ,  -122.1189 ,  -142.8908 ,  -164.5738 ,  -195.5508 ,\n",
       "        -228.205  ,  -275.2808 ,  -321.6813 ,  -387.5287 ,  -470.5144 ,\n",
       "        -558.4168 ,  -655.9384 ,  -773.8778 ,  -913.8754 , -1069.582  ,\n",
       "       -1243.894  , -1440.5    , -1644.846  , -1891.697  , -2170.397  ,\n",
       "       -2427.713  , -2737.648  , -3059.258  , -3423.424  , -3800.406  ,\n",
       "       -4165.968  , -4477.789  , -4931.03   , -5301.367  , -5703.416  ,\n",
       "       -6161.72   , -6635.557  ])"
      ]
     },
     "execution_count": 16,
     "metadata": {},
     "output_type": "execute_result"
    }
   ],
   "source": [
    "np.array(Z).imag"
   ]
  },
  {
   "cell_type": "code",
   "execution_count": 15,
   "metadata": {},
   "outputs": [
    {
     "data": {
      "text/plain": [
       "'array([825.8584, 1100.361, 1401.721, 1739.625, 2087.403, 2422.298, 2720.257, 2982.016, 3212.336, 3359.629, 3499.298, 3598.306, 3688.117, 3766.628, 3808.92, 3842.264, 3902.565, 3927.298, 3944.01, 3987.966, 3998.507, 4029.045, 4044.939, 4077.349, 4068.979, 4072.986, 4078.837, 4107.241, 4130.96, 4143.088, 4164.664, 4183.986, 4206.823, 4225.685, 4230.309, 4228.707, 4242.562, 4250.716, 4219.722, 4208.409, 4203.486, 4213.595, 4241.487, 4258.891, 4295.819, 4297.472, 4313.771, 4361.165, 4408.525, 4430.184, 4495.299, 4571.314, 4632.138, 4753.051, 4889.047, 5038.293, 5218.515, 5444.164, 5926.305, 6461.792, 7343.626, 7986.202, 8435.127, 8973.929, 10123.93, 10823.63, 11628.01, 12514.52, 13482.75, 14713.85, 15701.81, 17007.49])'"
      ]
     },
     "execution_count": 15,
     "metadata": {},
     "output_type": "execute_result"
    }
   ],
   "source": [
    "'array([  825.8584,  1100.361 ,  1401.721 ,  1739.625 ,  2087.403 , 2422.298 ,  2720.257 ,  2982.016 ,  3212.336 ,  3359.629 , 3499.298 ,  3598.306 ,  3688.117 ,  3766.628 ,  3808.92  , 3842.264 ,  3902.565 ,  3927.298 ,  3944.01  ,  3987.966 , 3998.507 ,  4029.045 ,  4044.939 ,  4077.349 ,  4068.979 , 4072.986 ,  4078.837 ,  4107.241 ,  4130.96  ,  4143.088 , 4164.664 ,  4183.986 ,  4206.823 ,  4225.685 ,  4230.309 , 4228.707 ,  4242.562 ,  4250.716 ,  4219.722 ,  4208.409 , 4203.486 ,  4213.595 ,  4241.487 ,  4258.891 ,  4295.819 , 4297.472 ,  4313.771 ,  4361.165 ,  4408.525 ,  4430.184 , 4495.299 ,  4571.314 ,  4632.138 ,  4753.051 ,  4889.047 , 5038.293 ,  5218.515 ,  5444.164 ,  5926.305 ,  6461.792 , 7343.626 ,  7986.202 ,  8435.127 ,  8973.929 , 10123.93  , 10823.63  , 11628.01  , 12514.52  , 13482.75  , 14713.85  , 15701.81  , 17007.49  ])'.replace(' ', '').replace(',', ', ')\n"
   ]
  },
  {
   "cell_type": "code",
   "execution_count": 17,
   "metadata": {},
   "outputs": [
    {
     "data": {
      "text/plain": [
       "'array([-1367.239, -1502.195, -1621.813, -1672.93, -1668.395, -1620.144, -1506.859, -1407.856, -1266.296, -1091.802, -947.1432, -813.0331, -704.9116, -606.206, -516.6904, -439.2898, -382.0586, -327.8677, -279.8773, -247.0336, -214.7129, -187.785, -163.6504, -146.0875, -128.724, -114.1715, -105.0351, -95.6213, -88.8763, -82.36904, -77.56557, -73.49171, -70.95162, -68.13791, -69.87909, -68.70265, -73.79854, -78.35508, -81.94554, -94.86475, -104.9407, -122.1189, -142.8908, -164.5738, -195.5508, -228.205, -275.2808, -321.6813, -387.5287, -470.5144, -558.4168, -655.9384, -773.8778, -913.8754, -1069.582, -1243.894, -1440.5, -1644.846, -1891.697, -2170.397, -2427.713, -2737.648, -3059.258, -3423.424, -3800.406, -4165.968, -4477.789, -4931.03, -5301.367, -5703.416, -6161.72, -6635.557])'"
      ]
     },
     "execution_count": 17,
     "metadata": {},
     "output_type": "execute_result"
    }
   ],
   "source": [
    "'array([-1367.239  , -1502.195  , -1621.813  , -1672.93   , -1668.395  ,-1620.144  , -1506.859  , -1407.856  , -1266.296  , -1091.802  ,-947.1432 ,  -813.0331 ,  -704.9116 ,  -606.206  ,  -516.6904 ,-439.2898 ,  -382.0586 ,  -327.8677 ,  -279.8773 ,  -247.0336 ,-214.7129 ,  -187.785  ,  -163.6504 ,  -146.0875 ,  -128.724  ,-114.1715 ,  -105.0351 ,   -95.6213 ,   -88.8763 ,   -82.36904,-77.56557,   -73.49171,   -70.95162,   -68.13791,   -69.87909,-68.70265,   -73.79854,   -78.35508,   -81.94554,   -94.86475,-104.9407 ,  -122.1189 ,  -142.8908 ,  -164.5738 ,  -195.5508 ,-228.205  ,  -275.2808 ,  -321.6813 ,  -387.5287 ,  -470.5144 ,-558.4168 ,  -655.9384 ,  -773.8778 ,  -913.8754 , -1069.582  ,-1243.894  , -1440.5    , -1644.846  , -1891.697  , -2170.397  ,-2427.713  , -2737.648  , -3059.258  , -3423.424  , -3800.406  ,-4165.968  , -4477.789  , -4931.03   , -5301.367  , -5703.416  ,-6161.72   , -6635.557  ])'.replace(' ', '').replace(',', ', ')"
   ]
  },
  {
   "cell_type": "code",
   "execution_count": null,
   "metadata": {},
   "outputs": [],
   "source": []
  }
 ],
 "metadata": {
  "kernelspec": {
   "display_name": "Python 3",
   "language": "python",
   "name": "python3"
  },
  "language_info": {
   "codemirror_mode": {
    "name": "ipython",
    "version": 3
   },
   "file_extension": ".py",
   "mimetype": "text/x-python",
   "name": "python",
   "nbconvert_exporter": "python",
   "pygments_lexer": "ipython3",
   "version": "3.6.5"
  }
 },
 "nbformat": 4,
 "nbformat_minor": 2
}
