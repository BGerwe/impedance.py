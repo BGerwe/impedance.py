{
 "cells": [
  {
   "cell_type": "markdown",
   "metadata": {},
   "source": [
    "# Visualizing impedance spectra\n",
    "\n",
    "Plotting a basically formated impedance plot is as easy as 1, 2, 3..."
   ]
  },
  {
   "cell_type": "code",
   "execution_count": 1,
   "metadata": {},
   "outputs": [],
   "source": [
    "import matplotlib.pyplot as plt\n",
    "import numpy as np\n",
    "\n",
    "import sys\n",
    "sys.path.append('../../../')\n",
    "\n",
    "from impedance.models.circuits import CustomCircuit"
   ]
  },
  {
   "cell_type": "markdown",
   "metadata": {},
   "source": [
    "## 1. Read in data"
   ]
  },
  {
   "cell_type": "code",
   "execution_count": 2,
   "metadata": {},
   "outputs": [],
   "source": [
    "data = np.genfromtxt('../../../data/exampleData.csv', delimiter=',')\n",
    "\n",
    "frequencies = data[:,0]\n",
    "Z = data[:,1] + 1j*data[:,2]\n",
    "\n",
    "frequencies = frequencies[np.imag(Z) < 0]\n",
    "Z = Z[np.imag(Z) < 0]"
   ]
  },
  {
   "cell_type": "markdown",
   "metadata": {},
   "source": [
    "## 2. Fit a custom circuit\n",
    "\n",
    "(If you want to just plot experimental data without fitting a model you should check out the `plotting.plot_*()` functions)"
   ]
  },
  {
   "cell_type": "code",
   "execution_count": 3,
   "metadata": {},
   "outputs": [
    {
     "name": "stdout",
     "output_type": "stream",
     "text": [
      "\n",
      "Circuit string: R_0-p(R_1,C_1)-p(R_1,C_1)-Wo_1\n",
      "Fit: True\n",
      "\n",
      "Initial guesses:\n",
      "    R_0 = 1.00e-02 [Ohm]\n",
      "    R_1 = 5.00e-03 [Ohm]\n",
      "    C_1 = 1.00e-01 [F]\n",
      "    R_1 = 5.00e-03 [Ohm]\n",
      "    C_1 = 1.00e-01 [F]\n",
      "  Wo_1_0 = 1.00e-03 [Ohm]\n",
      "  Wo_1_1 = 2.00e+02 [sec]\n",
      "\n",
      "Fit parameters:\n",
      "    R_0 = 1.65e-02  (+/- 1.54e-04) [Ohm]\n",
      "    R_1 = 8.77e-03  (+/- 1.89e-04) [Ohm]\n",
      "    C_1 = 3.28e+00  (+/- 1.85e-01) [F]\n",
      "    R_1 = 5.31e-03  (+/- 2.06e-04) [Ohm]\n",
      "    C_1 = 2.32e-01  (+/- 1.90e-02) [F]\n",
      "  Wo_1_0 = 6.37e-02  (+/- 2.03e-03) [Ohm]\n",
      "  Wo_1_1 = 2.37e+02  (+/- 1.72e+01) [sec]\n",
      "\n"
     ]
    }
   ],
   "source": [
    "circuit = CustomCircuit(initial_guess=[.01, .005, .1, .005, .1, .001, 200], circuit='R_0-p(R_1,C_1)-p(R_1,C_1)-Wo_1')\n",
    "\n",
    "circuit.fit(frequencies, Z)\n",
    "\n",
    "print(circuit)"
   ]
  },
  {
   "cell_type": "markdown",
   "metadata": {},
   "source": [
    "## 3. Plot the data and fit"
   ]
  },
  {
   "cell_type": "markdown",
   "metadata": {},
   "source": [
    "### a. Interactive altair plot"
   ]
  },
  {
   "cell_type": "code",
   "execution_count": 4,
   "metadata": {},
   "outputs": [
    {
     "data": {
      "application/vnd.vegalite.v3+json": {
       "$schema": "https://vega.github.io/schema/vega-lite/v3.4.0.json",
       "config": {
        "background": "#FFFFFF",
        "mark": {
         "tooltip": null
        },
        "view": {
         "height": 300,
         "width": 400
        }
       },
       "datasets": {
        "data-f61526ebc1a64545a02d855dbc8fb7d8": [
         {
          "f": 0.0031623,
          "fmt": "-",
          "kind": "fit",
          "z_imag": -0.01902721966430346,
          "z_real": 0.04935022105352088
         },
         {
          "f": 0.0039811,
          "fmt": "-",
          "kind": "fit",
          "z_imag": -0.017058205266253835,
          "z_real": 0.04829055253567313
         },
         {
          "f": 0.0050119,
          "fmt": "-",
          "kind": "fit",
          "z_imag": -0.01551958839375277,
          "z_real": 0.04697055055803591
         },
         {
          "f": 0.0063096,
          "fmt": "-",
          "kind": "fit",
          "z_imag": -0.01419087570698547,
          "z_real": 0.045460002736186396
         },
         {
          "f": 0.0079433,
          "fmt": "-",
          "kind": "fit",
          "z_imag": -0.012924670151401486,
          "z_real": 0.043882818837444666
         },
         {
          "f": 0.01,
          "fmt": "-",
          "kind": "fit",
          "z_imag": -0.01166938041744425,
          "z_real": 0.042371621722045706
         },
         {
          "f": 0.012589,
          "fmt": "-",
          "kind": "fit",
          "z_imag": -0.010449070238509665,
          "z_real": 0.04101546470742043
         },
         {
          "f": 0.015849,
          "fmt": "-",
          "kind": "fit",
          "z_imag": -0.009312955718907098,
          "z_real": 0.03983865243216293
         },
         {
          "f": 0.019953,
          "fmt": "-",
          "kind": "fit",
          "z_imag": -0.008294218991841835,
          "z_real": 0.03882004653912549
         },
         {
          "f": 0.025119,
          "fmt": "-",
          "kind": "fit",
          "z_imag": -0.007396732109519229,
          "z_real": 0.03792512957911363
         },
         {
          "f": 0.031623,
          "fmt": "-",
          "kind": "fit",
          "z_imag": -0.006606407301754138,
          "z_real": 0.037128140655352256
         },
         {
          "f": 0.039811,
          "fmt": "-",
          "kind": "fit",
          "z_imag": -0.005907485877022903,
          "z_real": 0.03641573676298918
         },
         {
          "f": 0.050119,
          "fmt": "-",
          "kind": "fit",
          "z_imag": -0.005289060547603654,
          "z_real": 0.03577991656764187
         },
         {
          "f": 0.063096,
          "fmt": "-",
          "kind": "fit",
          "z_imag": -0.004743781898077091,
          "z_real": 0.03521310135488729
         },
         {
          "f": 0.079433,
          "fmt": "-",
          "kind": "fit",
          "z_imag": -0.004265543937447341,
          "z_real": 0.034707701975842796
         },
         {
          "f": 0.1,
          "fmt": "-",
          "kind": "fit",
          "z_imag": -0.0038490663454396373,
          "z_real": 0.03425680227806379
         },
         {
          "f": 0.12589,
          "fmt": "-",
          "kind": "fit",
          "z_imag": -0.00349015492400147,
          "z_real": 0.03385423304270328
         },
         {
          "f": 0.15849,
          "fmt": "-",
          "kind": "fit",
          "z_imag": -0.0031856152632662896,
          "z_real": 0.033494215318877155
         },
         {
          "f": 0.19953,
          "fmt": "-",
          "kind": "fit",
          "z_imag": -0.002933558141131728,
          "z_real": 0.03317153220262383
         },
         {
          "f": 0.25119,
          "fmt": "-",
          "kind": "fit",
          "z_imag": -0.002733211953076983,
          "z_real": 0.032881075008878304
         },
         {
          "f": 0.31623,
          "fmt": "-",
          "kind": "fit",
          "z_imag": -0.0025850347224838045,
          "z_real": 0.03261760264285647
         },
         {
          "f": 0.39811,
          "fmt": "-",
          "kind": "fit",
          "z_imag": -0.002490910155741141,
          "z_real": 0.03237555177570526
         },
         {
          "f": 0.50119,
          "fmt": "-",
          "kind": "fit",
          "z_imag": -0.002454135916130418,
          "z_real": 0.032148444941327965
         },
         {
          "f": 0.63096,
          "fmt": "-",
          "kind": "fit",
          "z_imag": -0.002479402027884832,
          "z_real": 0.03192820400564366
         },
         {
          "f": 0.79433,
          "fmt": "-",
          "kind": "fit",
          "z_imag": -0.0025725078377386392,
          "z_real": 0.03170415943883071
         },
         {
          "f": 1,
          "fmt": "-",
          "kind": "fit",
          "z_imag": -0.002739568551418144,
          "z_real": 0.03146172481434756
         },
         {
          "f": 1.2589,
          "fmt": "-",
          "kind": "fit",
          "z_imag": -0.002985249922211341,
          "z_real": 0.031180879113713155
         },
         {
          "f": 1.5849,
          "fmt": "-",
          "kind": "fit",
          "z_imag": -0.0033095855737205696,
          "z_real": 0.03083474668629499
         },
         {
          "f": 1.9953,
          "fmt": "-",
          "kind": "fit",
          "z_imag": -0.0037023182023650696,
          "z_real": 0.030390073809831043
         },
         {
          "f": 2.5119,
          "fmt": "-",
          "kind": "fit",
          "z_imag": -0.004135906193865199,
          "z_real": 0.029811144251820538
         },
         {
          "f": 3.1623,
          "fmt": "-",
          "kind": "fit",
          "z_imag": -0.004559707365588524,
          "z_real": 0.029070362341885977
         },
         {
          "f": 3.9811,
          "fmt": "-",
          "kind": "fit",
          "z_imag": -0.004901870035446065,
          "z_real": 0.028166145460537997
         },
         {
          "f": 5.0119,
          "fmt": "-",
          "kind": "fit",
          "z_imag": -0.005087221924302462,
          "z_real": 0.027139431001257368
         },
         {
          "f": 6.3096,
          "fmt": "-",
          "kind": "fit",
          "z_imag": -0.005068387061882591,
          "z_real": 0.026073632115103385
         },
         {
          "f": 7.9433,
          "fmt": "-",
          "kind": "fit",
          "z_imag": -0.004851052612609513,
          "z_real": 0.02506852443655581
         },
         {
          "f": 10,
          "fmt": "-",
          "kind": "fit",
          "z_imag": -0.0044919662760124004,
          "z_real": 0.024202106497374504
         },
         {
          "f": 12.589,
          "fmt": "-",
          "kind": "fit",
          "z_imag": -0.004071556856660372,
          "z_real": 0.023507530778239655
         },
         {
          "f": 15.849,
          "fmt": "-",
          "kind": "fit",
          "z_imag": -0.003663621726201109,
          "z_real": 0.022975517489170785
         },
         {
          "f": 19.953,
          "fmt": "-",
          "kind": "fit",
          "z_imag": -0.0033200374583989486,
          "z_real": 0.0225719020226097
         },
         {
          "f": 25.119,
          "fmt": "-",
          "kind": "fit",
          "z_imag": -0.0030692812228137445,
          "z_real": 0.02225328556994674
         },
         {
          "f": 31.623,
          "fmt": "-",
          "kind": "fit",
          "z_imag": -0.0029215726911054982,
          "z_real": 0.021975982042374134
         },
         {
          "f": 39.811,
          "fmt": "-",
          "kind": "fit",
          "z_imag": -0.0028736547578783224,
          "z_real": 0.02169900990911807
         },
         {
          "f": 50.119,
          "fmt": "-",
          "kind": "fit",
          "z_imag": -0.002910130931994033,
          "z_real": 0.02138461851266012
         },
         {
          "f": 63.096,
          "fmt": "-",
          "kind": "fit",
          "z_imag": -0.0030021385631579453,
          "z_real": 0.021000563758276372
         },
         {
          "f": 79.433,
          "fmt": "-",
          "kind": "fit",
          "z_imag": -0.0031063056108662735,
          "z_real": 0.02052660863838897
         },
         {
          "f": 100,
          "fmt": "-",
          "kind": "fit",
          "z_imag": -0.003169317849626823,
          "z_real": 0.01996459111319357
         },
         {
          "f": 125.89,
          "fmt": "-",
          "kind": "fit",
          "z_imag": -0.003142054677275313,
          "z_real": 0.01934560345798556
         },
         {
          "f": 158.49,
          "fmt": "-",
          "kind": "fit",
          "z_imag": -0.0029988842714328843,
          "z_real": 0.01872416515082654
         },
         {
          "f": 199.53,
          "fmt": "-",
          "kind": "fit",
          "z_imag": -0.0027486221340637875,
          "z_real": 0.018158694150152907
         },
         {
          "f": 251.19,
          "fmt": "-",
          "kind": "fit",
          "z_imag": -0.0024272937117204973,
          "z_real": 0.017689093973389768
         },
         {
          "f": 316.23,
          "fmt": "-",
          "kind": "fit",
          "z_imag": -0.0020790811365753044,
          "z_real": 0.01732779981655618
         },
         {
          "f": 398.11,
          "fmt": "-",
          "kind": "fit",
          "z_imag": -0.0017403481996645152,
          "z_real": 0.01706572400318014
         },
         {
          "f": 501.19,
          "fmt": "-",
          "kind": "fit",
          "z_imag": -0.00143333525906538,
          "z_real": 0.016883383701111265
         },
         {
          "f": 630.96,
          "fmt": "-",
          "kind": "fit",
          "z_imag": -0.0011676553350152604,
          "z_real": 0.01675993425006906
         },
         {
          "f": 794.33,
          "fmt": "-",
          "kind": "fit",
          "z_imag": -0.0009445353974119763,
          "z_real": 0.016677676341168644
         },
         {
          "f": 1000,
          "fmt": "-",
          "kind": "fit",
          "z_imag": -0.0007607199693643562,
          "z_real": 0.016623253165876373
         },
         {
          "f": 1258.9,
          "fmt": "-",
          "kind": "fit",
          "z_imag": -0.000611124003571038,
          "z_real": 0.016587249780181806
         }
        ],
        "data-fd6f011a3bca28d19d77b78352caffcc": [
         {
          "f": 0.0031623,
          "fmt": "o",
          "kind": "data",
          "z_imag": -0.020438698544418925,
          "z_real": 0.0494998977640506
         },
         {
          "f": 0.0039811,
          "fmt": "o",
          "kind": "data",
          "z_imag": -0.0182856893045487,
          "z_real": 0.04776559257398882
         },
         {
          "f": 0.0050119,
          "fmt": "o",
          "kind": "data",
          "z_imag": -0.016343158966700824,
          "z_real": 0.04613581757142157
         },
         {
          "f": 0.0063096,
          "fmt": "o",
          "kind": "data",
          "z_imag": -0.014589168660649915,
          "z_real": 0.044596836301773274
         },
         {
          "f": 0.0079433,
          "fmt": "o",
          "kind": "data",
          "z_imag": -0.01300096361736358,
          "z_real": 0.043142303861239205
         },
         {
          "f": 0.01,
          "fmt": "o",
          "kind": "data",
          "z_imag": -0.011573009182824043,
          "z_real": 0.04181678802099761
         },
         {
          "f": 0.012589,
          "fmt": "o",
          "kind": "data",
          "z_imag": -0.010282133623145187,
          "z_real": 0.040606740929859095
         },
         {
          "f": 0.015849,
          "fmt": "o",
          "kind": "data",
          "z_imag": -0.009113366697002839,
          "z_real": 0.03951932383144551
         },
         {
          "f": 0.019953,
          "fmt": "o",
          "kind": "data",
          "z_imag": -0.00804494958277692,
          "z_real": 0.03856629404354767
         },
         {
          "f": 0.025119,
          "fmt": "o",
          "kind": "data",
          "z_imag": -0.007075702921918925,
          "z_real": 0.03773445890891119
         },
         {
          "f": 0.031623,
          "fmt": "o",
          "kind": "data",
          "z_imag": -0.006209940124316647,
          "z_real": 0.037013908851197805
         },
         {
          "f": 0.039811,
          "fmt": "o",
          "kind": "data",
          "z_imag": -0.005450664199993216,
          "z_real": 0.03639992299924442
         },
         {
          "f": 0.050119,
          "fmt": "o",
          "kind": "data",
          "z_imag": -0.004804611324614652,
          "z_real": 0.035883179203561086
         },
         {
          "f": 0.063096,
          "fmt": "o",
          "kind": "data",
          "z_imag": -0.0042630212172992624,
          "z_real": 0.03544780816944048
         },
         {
          "f": 0.079433,
          "fmt": "o",
          "kind": "data",
          "z_imag": -0.003816723014957778,
          "z_real": 0.03506693121253139
         },
         {
          "f": 0.1,
          "fmt": "o",
          "kind": "data",
          "z_imag": -0.003465230467686932,
          "z_real": 0.034721707243418394
         },
         {
          "f": 0.12589,
          "fmt": "o",
          "kind": "data",
          "z_imag": -0.0031936182833490197,
          "z_real": 0.03440366308110683
         },
         {
          "f": 0.15849,
          "fmt": "o",
          "kind": "data",
          "z_imag": -0.0029843274850640607,
          "z_real": 0.03410783765793668
         },
         {
          "f": 0.19953,
          "fmt": "o",
          "kind": "data",
          "z_imag": -0.0028420187384119175,
          "z_real": 0.033821109172144787
         },
         {
          "f": 0.25119,
          "fmt": "o",
          "kind": "data",
          "z_imag": -0.0027510821389620833,
          "z_real": 0.03353616639243526
         },
         {
          "f": 0.31623,
          "fmt": "o",
          "kind": "data",
          "z_imag": -0.0027092774650327093,
          "z_real": 0.0332524554516705
         },
         {
          "f": 0.39811,
          "fmt": "o",
          "kind": "data",
          "z_imag": -0.002716402585530142,
          "z_real": 0.03295910966053001
         },
         {
          "f": 0.50119,
          "fmt": "o",
          "kind": "data",
          "z_imag": -0.0027688021541761596,
          "z_real": 0.03265642728210896
         },
         {
          "f": 0.63096,
          "fmt": "o",
          "kind": "data",
          "z_imag": -0.0028687505233332576,
          "z_real": 0.03232796211965539
         },
         {
          "f": 0.79433,
          "fmt": "o",
          "kind": "data",
          "z_imag": -0.002995332546857452,
          "z_real": 0.03197349380289498
         },
         {
          "f": 1,
          "fmt": "o",
          "kind": "data",
          "z_imag": -0.0031633863009665544,
          "z_real": 0.03158436174556338
         },
         {
          "f": 1.2589,
          "fmt": "o",
          "kind": "data",
          "z_imag": -0.0034345232421858604,
          "z_real": 0.031069936132208306
         },
         {
          "f": 1.5849,
          "fmt": "o",
          "kind": "data",
          "z_imag": -0.003652697342055591,
          "z_real": 0.030461419854177326
         },
         {
          "f": 1.9953,
          "fmt": "o",
          "kind": "data",
          "z_imag": -0.00389594513544332,
          "z_real": 0.029900714166654168
         },
         {
          "f": 2.5119,
          "fmt": "o",
          "kind": "data",
          "z_imag": -0.0041496368125138496,
          "z_real": 0.029379111339927506
         },
         {
          "f": 3.1623,
          "fmt": "o",
          "kind": "data",
          "z_imag": -0.0043563647278047945,
          "z_real": 0.028614488514401064
         },
         {
          "f": 3.9811,
          "fmt": "o",
          "kind": "data",
          "z_imag": -0.004528514961203703,
          "z_real": 0.027877380810968015
         },
         {
          "f": 5.0119,
          "fmt": "o",
          "kind": "data",
          "z_imag": -0.004623972802104744,
          "z_real": 0.027051941695755265
         },
         {
          "f": 6.3096,
          "fmt": "o",
          "kind": "data",
          "z_imag": -0.00463483440841946,
          "z_real": 0.02622642987302172
         },
         {
          "f": 7.9433,
          "fmt": "o",
          "kind": "data",
          "z_imag": -0.004562544489738368,
          "z_real": 0.02539677675995668
         },
         {
          "f": 10,
          "fmt": "o",
          "kind": "data",
          "z_imag": -0.0044183840649258165,
          "z_real": 0.024674033206038913
         },
         {
          "f": 12.589,
          "fmt": "o",
          "kind": "data",
          "z_imag": -0.004213943600562558,
          "z_real": 0.023984220630662276
         },
         {
          "f": 15.849,
          "fmt": "o",
          "kind": "data",
          "z_imag": -0.00397620055979716,
          "z_real": 0.023376189861574193
         },
         {
          "f": 19.953,
          "fmt": "o",
          "kind": "data",
          "z_imag": -0.0037290248504921668,
          "z_real": 0.022795788586331325
         },
         {
          "f": 25.119,
          "fmt": "o",
          "kind": "data",
          "z_imag": -0.0035578892246933775,
          "z_real": 0.022290491192888506
         },
         {
          "f": 31.623,
          "fmt": "o",
          "kind": "data",
          "z_imag": -0.0033509582749051627,
          "z_real": 0.02183347892172112
         },
         {
          "f": 39.811,
          "fmt": "o",
          "kind": "data",
          "z_imag": -0.0031826464281827804,
          "z_real": 0.021423948245372654
         },
         {
          "f": 50.119,
          "fmt": "o",
          "kind": "data",
          "z_imag": -0.0030507184111723995,
          "z_real": 0.021044983846558948
         },
         {
          "f": 63.096,
          "fmt": "o",
          "kind": "data",
          "z_imag": -0.0029386920239828154,
          "z_real": 0.02061274834162727
         },
         {
          "f": 79.433,
          "fmt": "o",
          "kind": "data",
          "z_imag": -0.002848034411523496,
          "z_real": 0.02020959510042839
         },
         {
          "f": 100,
          "fmt": "o",
          "kind": "data",
          "z_imag": -0.0027583877127425357,
          "z_real": 0.019760492004316906
         },
         {
          "f": 125.89,
          "fmt": "o",
          "kind": "data",
          "z_imag": -0.0026767011351060705,
          "z_real": 0.019397188854563818
         },
         {
          "f": 158.49,
          "fmt": "o",
          "kind": "data",
          "z_imag": -0.002575856490231119,
          "z_real": 0.01898347057349932
         },
         {
          "f": 199.53,
          "fmt": "o",
          "kind": "data",
          "z_imag": -0.002455805016755156,
          "z_real": 0.018562859805406066
         },
         {
          "f": 251.19,
          "fmt": "o",
          "kind": "data",
          "z_imag": -0.0023163152672671405,
          "z_real": 0.018173948838613962
         },
         {
          "f": 316.23,
          "fmt": "o",
          "kind": "data",
          "z_imag": -0.002149498808757098,
          "z_real": 0.017777098024495532
         },
         {
          "f": 398.11,
          "fmt": "o",
          "kind": "data",
          "z_imag": -0.0019492643145405137,
          "z_real": 0.017382944047369668
         },
         {
          "f": 501.19,
          "fmt": "o",
          "kind": "data",
          "z_imag": -0.0017151675874650793,
          "z_real": 0.017027408256891644
         },
         {
          "f": 630.96,
          "fmt": "o",
          "kind": "data",
          "z_imag": -0.0014357936694323731,
          "z_real": 0.016664493440403796
         },
         {
          "f": 794.33,
          "fmt": "o",
          "kind": "data",
          "z_imag": -0.001109438368794195,
          "z_real": 0.016338702344109557
         },
         {
          "f": 1000,
          "fmt": "o",
          "kind": "data",
          "z_imag": -0.0007287022309982213,
          "z_real": 0.0160611742499297
         },
         {
          "f": 1258.9,
          "fmt": "o",
          "kind": "data",
          "z_imag": -0.0002827724289657194,
          "z_real": 0.01580888106340524
         }
        ]
       },
       "hconcat": [
        {
         "vconcat": [
          {
           "layer": [
            {
             "data": {
              "name": "data-f61526ebc1a64545a02d855dbc8fb7d8"
             },
             "encoding": {
              "color": {
               "field": "kind",
               "type": "nominal"
              },
              "x": {
               "axis": {
                "title": "f [Hz]"
               },
               "field": "f",
               "scale": {
                "nice": false,
                "type": "log"
               },
               "type": "quantitative"
              },
              "y": {
               "axis": {
                "title": "|Z| [Ω]"
               },
               "field": "mag",
               "type": "quantitative"
              }
             },
             "height": 175,
             "mark": "line",
             "transform": [
              {
               "as": "mag",
               "calculate": "sqrt(pow(datum.z_real,2) + pow(datum.z_imag,2))"
              },
              {
               "as": "neg_phase",
               "calculate": "-(180/PI)*atan(datum.z_imag/datum.z_real)"
              }
             ],
             "width": 400
            },
            {
             "data": {
              "name": "data-fd6f011a3bca28d19d77b78352caffcc"
             },
             "encoding": {
              "color": {
               "field": "kind",
               "type": "nominal"
              },
              "size": {
               "condition": {
                "selection": "selector001",
                "value": 80
               },
               "value": 30
              },
              "x": {
               "axis": {
                "title": "f [Hz]"
               },
               "field": "f",
               "scale": {
                "nice": false,
                "type": "log"
               },
               "type": "quantitative"
              },
              "y": {
               "axis": {
                "title": "|Z| [Ω]"
               },
               "field": "mag",
               "type": "quantitative"
              }
             },
             "height": 175,
             "mark": "circle",
             "selection": {
              "selector001": {
               "empty": "none",
               "fields": [
                "f"
               ],
               "nearest": true,
               "on": "mouseover",
               "type": "single"
              },
              "selector003": {
               "bind": "scales",
               "encodings": [
                "x",
                "y"
               ],
               "type": "interval"
              }
             },
             "transform": [
              {
               "as": "mag",
               "calculate": "sqrt(pow(datum.z_real,2) + pow(datum.z_imag,2))"
              },
              {
               "as": "neg_phase",
               "calculate": "-(180/PI)*atan(datum.z_imag/datum.z_real)"
              }
             ],
             "width": 400
            }
           ]
          },
          {
           "layer": [
            {
             "data": {
              "name": "data-f61526ebc1a64545a02d855dbc8fb7d8"
             },
             "encoding": {
              "color": {
               "field": "kind",
               "type": "nominal"
              },
              "x": {
               "axis": {
                "title": "f [Hz]"
               },
               "field": "f",
               "scale": {
                "nice": false,
                "type": "log"
               },
               "type": "quantitative"
              },
              "y": {
               "axis": {
                "title": "-ϕ [°]"
               },
               "field": "neg_phase",
               "type": "quantitative"
              }
             },
             "height": 175,
             "mark": "line",
             "transform": [
              {
               "as": "mag",
               "calculate": "sqrt(pow(datum.z_real,2) + pow(datum.z_imag,2))"
              },
              {
               "as": "neg_phase",
               "calculate": "-(180/PI)*atan(datum.z_imag/datum.z_real)"
              }
             ],
             "width": 400
            },
            {
             "data": {
              "name": "data-fd6f011a3bca28d19d77b78352caffcc"
             },
             "encoding": {
              "color": {
               "field": "kind",
               "type": "nominal"
              },
              "size": {
               "condition": {
                "selection": "selector001",
                "value": 80
               },
               "value": 30
              },
              "x": {
               "axis": {
                "title": "f [Hz]"
               },
               "field": "f",
               "scale": {
                "nice": false,
                "type": "log"
               },
               "type": "quantitative"
              },
              "y": {
               "axis": {
                "title": "-ϕ [°]"
               },
               "field": "neg_phase",
               "type": "quantitative"
              }
             },
             "height": 175,
             "mark": "circle",
             "selection": {
              "selector001": {
               "empty": "none",
               "fields": [
                "f"
               ],
               "nearest": true,
               "on": "mouseover",
               "type": "single"
              },
              "selector003": {
               "bind": "scales",
               "encodings": [
                "x",
                "y"
               ],
               "type": "interval"
              }
             },
             "transform": [
              {
               "as": "mag",
               "calculate": "sqrt(pow(datum.z_real,2) + pow(datum.z_imag,2))"
              },
              {
               "as": "neg_phase",
               "calculate": "-(180/PI)*atan(datum.z_imag/datum.z_real)"
              }
             ],
             "width": 400
            }
           ]
          }
         ]
        },
        {
         "layer": [
          {
           "data": {
            "name": "data-f61526ebc1a64545a02d855dbc8fb7d8"
           },
           "encoding": {
            "color": {
             "field": "kind",
             "type": "nominal"
            },
            "x": {
             "axis": {
              "title": "Z' [Ω]"
             },
             "field": "z_real",
             "scale": {
              "domain": [
               0.01580888106340524,
               0.0494998977640506
              ],
              "nice": false,
              "padding": 5
             },
             "type": "quantitative"
            },
            "y": {
             "axis": {
              "title": "-Z'' [Ω]"
             },
             "field": "neg_z_imag",
             "scale": {
              "domain": [
               0.0002827724289657194,
               0.03397378912961108
              ],
              "nice": false,
              "padding": 5
             },
             "type": "quantitative"
            }
           },
           "height": 400,
           "mark": "line",
           "transform": [
            {
             "as": "neg_z_imag",
             "calculate": "-datum.z_imag"
            }
           ],
           "width": 400
          },
          {
           "data": {
            "name": "data-fd6f011a3bca28d19d77b78352caffcc"
           },
           "encoding": {
            "color": {
             "field": "kind",
             "legend": {
              "title": "Legend"
             },
             "type": "nominal"
            },
            "size": {
             "condition": {
              "selection": "selector001",
              "value": 80
             },
             "value": 30
            },
            "x": {
             "axis": {
              "title": "Z' [Ω]"
             },
             "field": "z_real",
             "scale": {
              "domain": [
               0.01580888106340524,
               0.0494998977640506
              ],
              "nice": false,
              "padding": 5
             },
             "type": "quantitative"
            },
            "y": {
             "axis": {
              "title": "-Z'' [Ω]"
             },
             "field": "neg_z_imag",
             "scale": {
              "domain": [
               0.0002827724289657194,
               0.03397378912961108
              ],
              "nice": false,
              "padding": 5
             },
             "type": "quantitative"
            }
           },
           "height": 400,
           "mark": "circle",
           "selection": {
            "selector001": {
             "empty": "none",
             "fields": [
              "f"
             ],
             "nearest": true,
             "on": "mouseover",
             "type": "single"
            },
            "selector002": {
             "bind": "scales",
             "encodings": [
              "x",
              "y"
             ],
             "type": "interval"
            }
           },
           "transform": [
            {
             "as": "neg_z_imag",
             "calculate": "-datum.z_imag"
            }
           ],
           "width": 400
          }
         ]
        }
       ]
      },
      "image/png": "[encoded data removed]",
      "text/plain": [
       "<VegaLite 3 object>\n",
       "\n",
       "If you see this message, it means the renderer has not been properly enabled\n",
       "for the frontend that you are using. For more information, see\n",
       "https://altair-viz.github.io/user_guide/troubleshooting.html\n"
      ]
     },
     "execution_count": 4,
     "metadata": {},
     "output_type": "execute_result"
    }
   ],
   "source": [
    "circuit.plot(f_data=frequencies, Z_data=Z)"
   ]
  },
  {
   "cell_type": "markdown",
   "metadata": {},
   "source": [
    "### b. Nyquist plot via matplotlib"
   ]
  },
  {
   "cell_type": "code",
   "execution_count": 5,
   "metadata": {},
   "outputs": [
    {
     "data": {
      "image/png": "[encoded data removed]",
      "text/plain": [
       "<Figure size 360x360 with 1 Axes>"
      ]
     },
     "metadata": {
      "needs_background": "light"
     },
     "output_type": "display_data"
    }
   ],
   "source": [
    "circuit.plot(f_data=frequencies, Z_data=Z, kind='nyquist')\n",
    "plt.show()"
   ]
  },
  {
   "cell_type": "markdown",
   "metadata": {},
   "source": [
    "### c. Bode plot via matplotlib"
   ]
  },
  {
   "cell_type": "code",
   "execution_count": 6,
   "metadata": {},
   "outputs": [
    {
     "data": {
      "image/png": "[encoded data removed]",
      "text/plain": [
       "<Figure size 360x360 with 2 Axes>"
      ]
     },
     "metadata": {
      "needs_background": "light"
     },
     "output_type": "display_data"
    }
   ],
   "source": [
    "circuit.plot(f_data=frequencies, Z_data=Z, kind='bode')\n",
    "plt.show()"
   ]
  },
  {
   "cell_type": "markdown",
   "metadata": {},
   "source": [
    "### Bonus: Easy access to all the customization of matplotlib\n",
    "\n",
    "Here we plot the data, changing the size of the figure, axes label fontsize, and turning off the grid by accessing the plt.Axes() object, ax\n"
   ]
  },
  {
   "cell_type": "code",
   "execution_count": 7,
   "metadata": {},
   "outputs": [
    {
     "data": {
      "image/png": "[encoded data removed]",
      "text/plain": [
       "<Figure size 720x720 with 1 Axes>"
      ]
     },
     "metadata": {
      "needs_background": "light"
     },
     "output_type": "display_data"
    }
   ],
   "source": [
    "fig, ax = plt.subplots(figsize=(10,10))\n",
    "ax = circuit.plot(ax, frequencies, Z, kind='nyquist')\n",
    "\n",
    "ax.tick_params(axis='both', which='major', labelsize=16)\n",
    "ax.grid(False)\n",
    "\n",
    "plt.show()"
   ]
  }
 ],
 "metadata": {
  "kernelspec": {
   "display_name": "Python 3",
   "language": "python",
   "name": "python3"
  },
  "language_info": {
   "codemirror_mode": {
    "name": "ipython",
    "version": 3
   },
   "file_extension": ".py",
   "mimetype": "text/x-python",
   "name": "python",
   "nbconvert_exporter": "python",
   "pygments_lexer": "ipython3",
   "version": "3.6.10"
  }
 },
 "nbformat": 4,
 "nbformat_minor": 4
}
