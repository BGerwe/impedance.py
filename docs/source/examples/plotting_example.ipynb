{
 "cells": [
  {
   "cell_type": "markdown",
   "metadata": {},
   "source": [
    "# Visualizing impedance spectra\n",
    "\n",
    "Plotting a basically formated impedance plot is as easy as 1, 2, 3..."
   ]
  },
  {
   "cell_type": "code",
   "execution_count": 1,
   "metadata": {},
   "outputs": [],
   "source": [
    "import matplotlib.pyplot as plt\n",
    "import numpy as np\n",
    "\n",
    "import sys\n",
    "sys.path.append('../../../')\n",
    "\n",
    "from impedance.circuits import CustomCircuit\n"
   ]
  },
  {
   "cell_type": "markdown",
   "metadata": {},
   "source": [
    "## 1. Read in data"
   ]
  },
  {
   "cell_type": "code",
   "execution_count": 2,
   "metadata": {},
   "outputs": [],
   "source": [
    "data = np.genfromtxt('../../../data/exampleData.csv', delimiter=',')\n",
    "\n",
    "frequencies = data[:,0]\n",
    "Z = data[:,1] + 1j*data[:,2]\n",
    "\n",
    "frequencies = frequencies[np.imag(Z) < 0]\n",
    "Z = Z[np.imag(Z) < 0]"
   ]
  },
  {
   "cell_type": "markdown",
   "metadata": {},
   "source": [
    "## 2. Fit a custom circuit\n",
    "\n",
    "(If you want to just plot experimental data without fitting a model you should check out the `plotting.plot_*()` functions)"
   ]
  },
  {
   "cell_type": "code",
   "execution_count": 3,
   "metadata": {},
   "outputs": [
    {
     "name": "stdout",
     "output_type": "stream",
     "text": [
      "\n",
      "Circuit string: R_0-p(R_1,C_1)-p(R_1,C_1)-W_1\n",
      "Fit: True\n",
      "\n",
      "Initial guesses:\n",
      "    R_0 = 1.00e-02 [Ohm]\n",
      "    R_1 = 5.00e-03 [Ohm]\n",
      "    C_1 = 1.00e-01 [F]\n",
      "    R_1 = 5.00e-03 [Ohm]\n",
      "    C_1 = 1.00e-01 [F]\n",
      "  W_1_0 = 1.00e-03 [Ohm]\n",
      "  W_1_1 = 2.00e+02 [sec]\n",
      "\n",
      "Fit parameters:\n",
      "    R_0 = 1.65e-02  (+/- 1.54e-04) [Ohm]\n",
      "    R_1 = 5.31e-03  (+/- 2.06e-04) [Ohm]\n",
      "    C_1 = 2.32e-01  (+/- 1.90e-02) [F]\n",
      "    R_1 = 8.77e-03  (+/- 1.89e-04) [Ohm]\n",
      "    C_1 = 3.28e+00  (+/- 1.85e-01) [F]\n",
      "  W_1_0 = 6.37e-02  (+/- 2.03e-03) [Ohm]\n",
      "  W_1_1 = 2.37e+02  (+/- 1.72e+01) [sec]\n",
      "\n"
     ]
    }
   ],
   "source": [
    "circuit = CustomCircuit(initial_guess=[.01, .005, .1, .005, .1, .001, 200], circuit='R_0-p(R_1,C_1)-p(R_1,C_1)-W_1')\n",
    "\n",
    "circuit.fit(frequencies, Z)\n",
    "\n",
    "print(circuit)"
   ]
  },
  {
   "cell_type": "markdown",
   "metadata": {},
   "source": [
    "## 3. Plot the data and fit"
   ]
  },
  {
   "cell_type": "markdown",
   "metadata": {},
   "source": [
    "### a. Interactive altair plot"
   ]
  },
  {
   "cell_type": "code",
   "execution_count": 4,
   "metadata": {},
   "outputs": [
    {
     "data": {
      "application/vnd.vegalite.v3+json": {
       "$schema": "https://vega.github.io/schema/vega-lite/v3.4.0.json",
       "config": {
        "mark": {
         "tooltip": null
        },
        "view": {
         "height": 300,
         "width": 400
        }
       },
       "datasets": {
        "data-84bbc752eef205909cb2f37fdb8f73ac": [
         {
          "f": 0.0031623,
          "fmt": "-",
          "kind": "fit",
          "z_imag": -0.019027219705620484,
          "z_real": 0.0493502209561513
         },
         {
          "f": 0.0039811,
          "fmt": "-",
          "kind": "fit",
          "z_imag": -0.01705820527024657,
          "z_real": 0.04829055247732915
         },
         {
          "f": 0.0050119,
          "fmt": "-",
          "kind": "fit",
          "z_imag": -0.015519588381229457,
          "z_real": 0.04697055053758911
         },
         {
          "f": 0.0063096,
          "fmt": "-",
          "kind": "fit",
          "z_imag": -0.014190875695529183,
          "z_real": 0.04546000274504498
         },
         {
          "f": 0.0079433,
          "fmt": "-",
          "kind": "fit",
          "z_imag": -0.012924670150742848,
          "z_real": 0.04388281886201776
         },
         {
          "f": 0.01,
          "fmt": "-",
          "kind": "fit",
          "z_imag": -0.011669380428197948,
          "z_real": 0.04237162174947061
         },
         {
          "f": 0.012589,
          "fmt": "-",
          "kind": "fit",
          "z_imag": -0.010449070255623734,
          "z_real": 0.0410154647302728
         },
         {
          "f": 0.015849,
          "fmt": "-",
          "kind": "fit",
          "z_imag": -0.00931295573680103,
          "z_real": 0.039838652448999756
         },
         {
          "f": 0.019953,
          "fmt": "-",
          "kind": "fit",
          "z_imag": -0.008294219007516895,
          "z_real": 0.038820046551775254
         },
         {
          "f": 0.025119,
          "fmt": "-",
          "kind": "fit",
          "z_imag": -0.007396732122623638,
          "z_real": 0.03792512958963931
         },
         {
          "f": 0.031623,
          "fmt": "-",
          "kind": "fit",
          "z_imag": -0.006606407313021851,
          "z_real": 0.03712814066469307
         },
         {
          "f": 0.039811,
          "fmt": "-",
          "kind": "fit",
          "z_imag": -0.005907485887017438,
          "z_real": 0.036415736771259505
         },
         {
          "f": 0.050119,
          "fmt": "-",
          "kind": "fit",
          "z_imag": -0.0052890605565065136,
          "z_real": 0.03577991657482491
         },
         {
          "f": 0.063096,
          "fmt": "-",
          "kind": "fit",
          "z_imag": -0.004743781905956218,
          "z_real": 0.035213101361072405
         },
         {
          "f": 0.079433,
          "fmt": "-",
          "kind": "fit",
          "z_imag": -0.004265543944387862,
          "z_real": 0.03470770198114945
         },
         {
          "f": 0.1,
          "fmt": "-",
          "kind": "fit",
          "z_imag": -0.0038490663515254866,
          "z_real": 0.0342568022825922
         },
         {
          "f": 0.12589,
          "fmt": "-",
          "kind": "fit",
          "z_imag": -0.003490154929300382,
          "z_real": 0.033854233046541386
         },
         {
          "f": 0.15849,
          "fmt": "-",
          "kind": "fit",
          "z_imag": -0.003185615267831517,
          "z_real": 0.03349421532210583
         },
         {
          "f": 0.19953,
          "fmt": "-",
          "kind": "fit",
          "z_imag": -0.0029335581450030315,
          "z_real": 0.033171532205318814
         },
         {
          "f": 0.25119,
          "fmt": "-",
          "kind": "fit",
          "z_imag": -0.0027332119562801555,
          "z_real": 0.03288107501111255
         },
         {
          "f": 0.31623,
          "fmt": "-",
          "kind": "fit",
          "z_imag": -0.002585034725030176,
          "z_real": 0.03261760264470346
         },
         {
          "f": 0.39811,
          "fmt": "-",
          "kind": "fit",
          "z_imag": -0.0024909101576276443,
          "z_real": 0.03237555177724382
         },
         {
          "f": 0.50119,
          "fmt": "-",
          "kind": "fit",
          "z_imag": -0.002454135917340256,
          "z_real": 0.032148444942648916
         },
         {
          "f": 0.63096,
          "fmt": "-",
          "kind": "fit",
          "z_imag": -0.0024794020283902705,
          "z_real": 0.03192820400685916
         },
         {
          "f": 0.79433,
          "fmt": "-",
          "kind": "fit",
          "z_imag": -0.002572507837508258,
          "z_real": 0.031704159440086914
         },
         {
          "f": 1,
          "fmt": "-",
          "kind": "fit",
          "z_imag": -0.0027395685504326027,
          "z_real": 0.031461724815840114
         },
         {
          "f": 1.2589,
          "fmt": "-",
          "kind": "fit",
          "z_imag": -0.0029852499204939768,
          "z_real": 0.031180879115702158
         },
         {
          "f": 1.5849,
          "fmt": "-",
          "kind": "fit",
          "z_imag": -0.0033095855713896594,
          "z_real": 0.030834746689109307
         },
         {
          "f": 1.9953,
          "fmt": "-",
          "kind": "fit",
          "z_imag": -0.003702318199710483,
          "z_real": 0.030390073813839107
         },
         {
          "f": 2.5119,
          "fmt": "-",
          "kind": "fit",
          "z_imag": -0.004135906191428621,
          "z_real": 0.029811144257334186
         },
         {
          "f": 3.1623,
          "fmt": "-",
          "kind": "fit",
          "z_imag": -0.004559707364184312,
          "z_real": 0.029070362348973488
         },
         {
          "f": 3.9811,
          "fmt": "-",
          "kind": "fit",
          "z_imag": -0.004901870036018584,
          "z_real": 0.028166145468791374
         },
         {
          "f": 5.0119,
          "fmt": "-",
          "kind": "fit",
          "z_imag": -0.00508722192757084,
          "z_real": 0.027139431009686077
         },
         {
          "f": 6.3096,
          "fmt": "-",
          "kind": "fit",
          "z_imag": -0.005068387067932726,
          "z_real": 0.02607363212235379
         },
         {
          "f": 7.9433,
          "fmt": "-",
          "kind": "fit",
          "z_imag": -0.004851052620760984,
          "z_real": 0.025068524441415697
         },
         {
          "f": 10,
          "fmt": "-",
          "kind": "fit",
          "z_imag": -0.004491966285102746,
          "z_real": 0.024202106499213845
         },
         {
          "f": 12.589,
          "fmt": "-",
          "kind": "fit",
          "z_imag": -0.004071556865507952,
          "z_real": 0.02350753077709607
         },
         {
          "f": 15.849,
          "fmt": "-",
          "kind": "fit",
          "z_imag": -0.0036636217339201613,
          "z_real": 0.022975517485535384
         },
         {
          "f": 19.953,
          "fmt": "-",
          "kind": "fit",
          "z_imag": -0.003320037464471588,
          "z_real": 0.022571902017156323
         },
         {
          "f": 25.119,
          "fmt": "-",
          "kind": "fit",
          "z_imag": -0.003069281227015798,
          "z_real": 0.02225328556335354
         },
         {
          "f": 31.623,
          "fmt": "-",
          "kind": "fit",
          "z_imag": -0.0029215726934048868,
          "z_real": 0.021975982035257163
         },
         {
          "f": 39.811,
          "fmt": "-",
          "kind": "fit",
          "z_imag": -0.0028736547583704916,
          "z_real": 0.021699009902030893
         },
         {
          "f": 50.119,
          "fmt": "-",
          "kind": "fit",
          "z_imag": -0.002910130930886525,
          "z_real": 0.02138461850610706
         },
         {
          "f": 63.096,
          "fmt": "-",
          "kind": "fit",
          "z_imag": -0.00300213856078924,
          "z_real": 0.021000563752699385
         },
         {
          "f": 79.433,
          "fmt": "-",
          "kind": "fit",
          "z_imag": -0.0031063056077193477,
          "z_real": 0.02052660863410548
         },
         {
          "f": 100,
          "fmt": "-",
          "kind": "fit",
          "z_imag": -0.0031693178462827705,
          "z_real": 0.019964591110301612
         },
         {
          "f": 125.89,
          "fmt": "-",
          "kind": "fit",
          "z_imag": -0.0031420546742804184,
          "z_real": 0.019345603456307436
         },
         {
          "f": 158.49,
          "fmt": "-",
          "kind": "fit",
          "z_imag": -0.002998884269138353,
          "z_real": 0.018724165149970287
         },
         {
          "f": 199.53,
          "fmt": "-",
          "kind": "fit",
          "z_imag": -0.0027486221325535116,
          "z_real": 0.018158694149676434
         },
         {
          "f": 251.19,
          "fmt": "-",
          "kind": "fit",
          "z_imag": -0.002427293710873793,
          "z_real": 0.017689093972954813
         },
         {
          "f": 316.23,
          "fmt": "-",
          "kind": "fit",
          "z_imag": -0.002079081136192018,
          "z_real": 0.017327799815982058
         },
         {
          "f": 398.11,
          "fmt": "-",
          "kind": "fit",
          "z_imag": -0.0017403481995599906,
          "z_real": 0.01706572400241156
         },
         {
          "f": 501.19,
          "fmt": "-",
          "kind": "fit",
          "z_imag": -0.001433335259107505,
          "z_real": 0.016883383700160997
         },
         {
          "f": 630.96,
          "fmt": "-",
          "kind": "fit",
          "z_imag": -0.001167655335123061,
          "z_real": 0.01675993424897418
         },
         {
          "f": 794.33,
          "fmt": "-",
          "kind": "fit",
          "z_imag": -0.0009445353975410446,
          "z_real": 0.016677676339967702
         },
         {
          "f": 1000,
          "fmt": "-",
          "kind": "fit",
          "z_imag": -0.0007607199694926441,
          "z_real": 0.01662325316460092
         },
         {
          "f": 1258.9,
          "fmt": "-",
          "kind": "fit",
          "z_imag": -0.0006111240036888913,
          "z_real": 0.01658724977885508
         }
        ],
        "data-fd6f011a3bca28d19d77b78352caffcc": [
         {
          "f": 0.0031623,
          "fmt": "o",
          "kind": "data",
          "z_imag": -0.020438698544418925,
          "z_real": 0.0494998977640506
         },
         {
          "f": 0.0039811,
          "fmt": "o",
          "kind": "data",
          "z_imag": -0.0182856893045487,
          "z_real": 0.04776559257398882
         },
         {
          "f": 0.0050119,
          "fmt": "o",
          "kind": "data",
          "z_imag": -0.016343158966700824,
          "z_real": 0.04613581757142157
         },
         {
          "f": 0.0063096,
          "fmt": "o",
          "kind": "data",
          "z_imag": -0.014589168660649915,
          "z_real": 0.044596836301773274
         },
         {
          "f": 0.0079433,
          "fmt": "o",
          "kind": "data",
          "z_imag": -0.01300096361736358,
          "z_real": 0.043142303861239205
         },
         {
          "f": 0.01,
          "fmt": "o",
          "kind": "data",
          "z_imag": -0.011573009182824043,
          "z_real": 0.04181678802099761
         },
         {
          "f": 0.012589,
          "fmt": "o",
          "kind": "data",
          "z_imag": -0.010282133623145187,
          "z_real": 0.040606740929859095
         },
         {
          "f": 0.015849,
          "fmt": "o",
          "kind": "data",
          "z_imag": -0.009113366697002839,
          "z_real": 0.03951932383144551
         },
         {
          "f": 0.019953,
          "fmt": "o",
          "kind": "data",
          "z_imag": -0.00804494958277692,
          "z_real": 0.03856629404354767
         },
         {
          "f": 0.025119,
          "fmt": "o",
          "kind": "data",
          "z_imag": -0.007075702921918925,
          "z_real": 0.03773445890891119
         },
         {
          "f": 0.031623,
          "fmt": "o",
          "kind": "data",
          "z_imag": -0.006209940124316647,
          "z_real": 0.037013908851197805
         },
         {
          "f": 0.039811,
          "fmt": "o",
          "kind": "data",
          "z_imag": -0.005450664199993216,
          "z_real": 0.03639992299924442
         },
         {
          "f": 0.050119,
          "fmt": "o",
          "kind": "data",
          "z_imag": -0.004804611324614652,
          "z_real": 0.035883179203561086
         },
         {
          "f": 0.063096,
          "fmt": "o",
          "kind": "data",
          "z_imag": -0.0042630212172992624,
          "z_real": 0.03544780816944048
         },
         {
          "f": 0.079433,
          "fmt": "o",
          "kind": "data",
          "z_imag": -0.003816723014957778,
          "z_real": 0.03506693121253139
         },
         {
          "f": 0.1,
          "fmt": "o",
          "kind": "data",
          "z_imag": -0.003465230467686932,
          "z_real": 0.034721707243418394
         },
         {
          "f": 0.12589,
          "fmt": "o",
          "kind": "data",
          "z_imag": -0.0031936182833490197,
          "z_real": 0.03440366308110683
         },
         {
          "f": 0.15849,
          "fmt": "o",
          "kind": "data",
          "z_imag": -0.0029843274850640607,
          "z_real": 0.03410783765793668
         },
         {
          "f": 0.19953,
          "fmt": "o",
          "kind": "data",
          "z_imag": -0.0028420187384119175,
          "z_real": 0.033821109172144787
         },
         {
          "f": 0.25119,
          "fmt": "o",
          "kind": "data",
          "z_imag": -0.0027510821389620833,
          "z_real": 0.03353616639243526
         },
         {
          "f": 0.31623,
          "fmt": "o",
          "kind": "data",
          "z_imag": -0.0027092774650327093,
          "z_real": 0.0332524554516705
         },
         {
          "f": 0.39811,
          "fmt": "o",
          "kind": "data",
          "z_imag": -0.002716402585530142,
          "z_real": 0.03295910966053001
         },
         {
          "f": 0.50119,
          "fmt": "o",
          "kind": "data",
          "z_imag": -0.0027688021541761596,
          "z_real": 0.03265642728210896
         },
         {
          "f": 0.63096,
          "fmt": "o",
          "kind": "data",
          "z_imag": -0.0028687505233332576,
          "z_real": 0.03232796211965539
         },
         {
          "f": 0.79433,
          "fmt": "o",
          "kind": "data",
          "z_imag": -0.002995332546857452,
          "z_real": 0.03197349380289498
         },
         {
          "f": 1,
          "fmt": "o",
          "kind": "data",
          "z_imag": -0.0031633863009665544,
          "z_real": 0.03158436174556338
         },
         {
          "f": 1.2589,
          "fmt": "o",
          "kind": "data",
          "z_imag": -0.0034345232421858604,
          "z_real": 0.031069936132208306
         },
         {
          "f": 1.5849,
          "fmt": "o",
          "kind": "data",
          "z_imag": -0.003652697342055591,
          "z_real": 0.030461419854177326
         },
         {
          "f": 1.9953,
          "fmt": "o",
          "kind": "data",
          "z_imag": -0.00389594513544332,
          "z_real": 0.029900714166654168
         },
         {
          "f": 2.5119,
          "fmt": "o",
          "kind": "data",
          "z_imag": -0.0041496368125138496,
          "z_real": 0.029379111339927506
         },
         {
          "f": 3.1623,
          "fmt": "o",
          "kind": "data",
          "z_imag": -0.0043563647278047945,
          "z_real": 0.028614488514401064
         },
         {
          "f": 3.9811,
          "fmt": "o",
          "kind": "data",
          "z_imag": -0.004528514961203703,
          "z_real": 0.027877380810968015
         },
         {
          "f": 5.0119,
          "fmt": "o",
          "kind": "data",
          "z_imag": -0.004623972802104744,
          "z_real": 0.027051941695755265
         },
         {
          "f": 6.3096,
          "fmt": "o",
          "kind": "data",
          "z_imag": -0.00463483440841946,
          "z_real": 0.02622642987302172
         },
         {
          "f": 7.9433,
          "fmt": "o",
          "kind": "data",
          "z_imag": -0.004562544489738368,
          "z_real": 0.02539677675995668
         },
         {
          "f": 10,
          "fmt": "o",
          "kind": "data",
          "z_imag": -0.0044183840649258165,
          "z_real": 0.024674033206038913
         },
         {
          "f": 12.589,
          "fmt": "o",
          "kind": "data",
          "z_imag": -0.004213943600562558,
          "z_real": 0.023984220630662276
         },
         {
          "f": 15.849,
          "fmt": "o",
          "kind": "data",
          "z_imag": -0.00397620055979716,
          "z_real": 0.023376189861574193
         },
         {
          "f": 19.953,
          "fmt": "o",
          "kind": "data",
          "z_imag": -0.0037290248504921668,
          "z_real": 0.022795788586331325
         },
         {
          "f": 25.119,
          "fmt": "o",
          "kind": "data",
          "z_imag": -0.0035578892246933775,
          "z_real": 0.022290491192888506
         },
         {
          "f": 31.623,
          "fmt": "o",
          "kind": "data",
          "z_imag": -0.0033509582749051627,
          "z_real": 0.02183347892172112
         },
         {
          "f": 39.811,
          "fmt": "o",
          "kind": "data",
          "z_imag": -0.0031826464281827804,
          "z_real": 0.021423948245372654
         },
         {
          "f": 50.119,
          "fmt": "o",
          "kind": "data",
          "z_imag": -0.0030507184111723995,
          "z_real": 0.021044983846558948
         },
         {
          "f": 63.096,
          "fmt": "o",
          "kind": "data",
          "z_imag": -0.0029386920239828154,
          "z_real": 0.02061274834162727
         },
         {
          "f": 79.433,
          "fmt": "o",
          "kind": "data",
          "z_imag": -0.002848034411523496,
          "z_real": 0.02020959510042839
         },
         {
          "f": 100,
          "fmt": "o",
          "kind": "data",
          "z_imag": -0.0027583877127425357,
          "z_real": 0.019760492004316906
         },
         {
          "f": 125.89,
          "fmt": "o",
          "kind": "data",
          "z_imag": -0.0026767011351060705,
          "z_real": 0.019397188854563818
         },
         {
          "f": 158.49,
          "fmt": "o",
          "kind": "data",
          "z_imag": -0.002575856490231119,
          "z_real": 0.01898347057349932
         },
         {
          "f": 199.53,
          "fmt": "o",
          "kind": "data",
          "z_imag": -0.002455805016755156,
          "z_real": 0.018562859805406066
         },
         {
          "f": 251.19,
          "fmt": "o",
          "kind": "data",
          "z_imag": -0.0023163152672671405,
          "z_real": 0.018173948838613962
         },
         {
          "f": 316.23,
          "fmt": "o",
          "kind": "data",
          "z_imag": -0.002149498808757098,
          "z_real": 0.017777098024495532
         },
         {
          "f": 398.11,
          "fmt": "o",
          "kind": "data",
          "z_imag": -0.0019492643145405137,
          "z_real": 0.017382944047369668
         },
         {
          "f": 501.19,
          "fmt": "o",
          "kind": "data",
          "z_imag": -0.0017151675874650793,
          "z_real": 0.017027408256891644
         },
         {
          "f": 630.96,
          "fmt": "o",
          "kind": "data",
          "z_imag": -0.0014357936694323731,
          "z_real": 0.016664493440403796
         },
         {
          "f": 794.33,
          "fmt": "o",
          "kind": "data",
          "z_imag": -0.001109438368794195,
          "z_real": 0.016338702344109557
         },
         {
          "f": 1000,
          "fmt": "o",
          "kind": "data",
          "z_imag": -0.0007287022309982213,
          "z_real": 0.0160611742499297
         },
         {
          "f": 1258.9,
          "fmt": "o",
          "kind": "data",
          "z_imag": -0.0002827724289657194,
          "z_real": 0.01580888106340524
         }
        ]
       },
       "hconcat": [
        {
         "vconcat": [
          {
           "layer": [
            {
             "data": {
              "name": "data-84bbc752eef205909cb2f37fdb8f73ac"
             },
             "encoding": {
              "color": {
               "field": "kind",
               "type": "nominal"
              },
              "x": {
               "axis": {
                "title": "f [Hz]"
               },
               "field": "f",
               "scale": {
                "nice": false,
                "type": "log"
               },
               "type": "quantitative"
              },
              "y": {
               "axis": {
                "title": "|Z| [Ω]"
               },
               "field": "mag",
               "type": "quantitative"
              }
             },
             "height": 175,
             "mark": "line",
             "transform": [
              {
               "as": "mag",
               "calculate": "sqrt(pow(datum.z_real,2) + pow(datum.z_imag,2))"
              },
              {
               "as": "neg_phase",
               "calculate": "-atan(datum.z_imag/datum.z_real)"
              }
             ],
             "width": 400
            },
            {
             "data": {
              "name": "data-fd6f011a3bca28d19d77b78352caffcc"
             },
             "encoding": {
              "color": {
               "field": "kind",
               "type": "nominal"
              },
              "size": {
               "condition": {
                "selection": "selector001",
                "value": 80
               },
               "value": 30
              },
              "x": {
               "axis": {
                "title": "f [Hz]"
               },
               "field": "f",
               "scale": {
                "nice": false,
                "type": "log"
               },
               "type": "quantitative"
              },
              "y": {
               "axis": {
                "title": "|Z| [Ω]"
               },
               "field": "mag",
               "type": "quantitative"
              }
             },
             "height": 175,
             "mark": "circle",
             "selection": {
              "selector001": {
               "empty": "none",
               "fields": [
                "f"
               ],
               "nearest": true,
               "on": "mouseover",
               "type": "single"
              },
              "selector003": {
               "bind": "scales",
               "encodings": [
                "x",
                "y"
               ],
               "type": "interval"
              }
             },
             "transform": [
              {
               "as": "mag",
               "calculate": "sqrt(pow(datum.z_real,2) + pow(datum.z_imag,2))"
              },
              {
               "as": "neg_phase",
               "calculate": "-atan(datum.z_imag/datum.z_real)"
              }
             ],
             "width": 400
            }
           ]
          },
          {
           "layer": [
            {
             "data": {
              "name": "data-84bbc752eef205909cb2f37fdb8f73ac"
             },
             "encoding": {
              "color": {
               "field": "kind",
               "type": "nominal"
              },
              "x": {
               "axis": {
                "title": "f [Hz]"
               },
               "field": "f",
               "scale": {
                "nice": false,
                "type": "log"
               },
               "type": "quantitative"
              },
              "y": {
               "axis": {
                "title": "-ϕ [°]"
               },
               "field": "neg_phase",
               "type": "quantitative"
              }
             },
             "height": 175,
             "mark": "line",
             "transform": [
              {
               "as": "mag",
               "calculate": "sqrt(pow(datum.z_real,2) + pow(datum.z_imag,2))"
              },
              {
               "as": "neg_phase",
               "calculate": "-atan(datum.z_imag/datum.z_real)"
              }
             ],
             "width": 400
            },
            {
             "data": {
              "name": "data-fd6f011a3bca28d19d77b78352caffcc"
             },
             "encoding": {
              "color": {
               "field": "kind",
               "type": "nominal"
              },
              "size": {
               "condition": {
                "selection": "selector001",
                "value": 80
               },
               "value": 30
              },
              "x": {
               "axis": {
                "title": "f [Hz]"
               },
               "field": "f",
               "scale": {
                "nice": false,
                "type": "log"
               },
               "type": "quantitative"
              },
              "y": {
               "axis": {
                "title": "-ϕ [°]"
               },
               "field": "neg_phase",
               "type": "quantitative"
              }
             },
             "height": 175,
             "mark": "circle",
             "selection": {
              "selector001": {
               "empty": "none",
               "fields": [
                "f"
               ],
               "nearest": true,
               "on": "mouseover",
               "type": "single"
              },
              "selector003": {
               "bind": "scales",
               "encodings": [
                "x",
                "y"
               ],
               "type": "interval"
              }
             },
             "transform": [
              {
               "as": "mag",
               "calculate": "sqrt(pow(datum.z_real,2) + pow(datum.z_imag,2))"
              },
              {
               "as": "neg_phase",
               "calculate": "-atan(datum.z_imag/datum.z_real)"
              }
             ],
             "width": 400
            }
           ]
          }
         ]
        },
        {
         "layer": [
          {
           "data": {
            "name": "data-84bbc752eef205909cb2f37fdb8f73ac"
           },
           "encoding": {
            "color": {
             "field": "kind",
             "type": "nominal"
            },
            "x": {
             "axis": {
              "title": "Z' [Ω]"
             },
             "field": "z_real",
             "scale": {
              "domain": [
               0.01580888106340524,
               0.0494998977640506
              ],
              "nice": false,
              "padding": 5
             },
             "type": "quantitative"
            },
            "y": {
             "axis": {
              "title": "-Z'' [Ω]"
             },
             "field": "neg_z_imag",
             "scale": {
              "domain": [
               0.0002827724289657194,
               0.03397378912961108
              ],
              "nice": false,
              "padding": 5
             },
             "type": "quantitative"
            }
           },
           "height": 400,
           "mark": "line",
           "transform": [
            {
             "as": "neg_z_imag",
             "calculate": "-datum.z_imag"
            }
           ],
           "width": 400
          },
          {
           "data": {
            "name": "data-fd6f011a3bca28d19d77b78352caffcc"
           },
           "encoding": {
            "color": {
             "field": "kind",
             "legend": {
              "title": "Legend"
             },
             "type": "nominal"
            },
            "size": {
             "condition": {
              "selection": "selector001",
              "value": 80
             },
             "value": 30
            },
            "x": {
             "axis": {
              "title": "Z' [Ω]"
             },
             "field": "z_real",
             "scale": {
              "domain": [
               0.01580888106340524,
               0.0494998977640506
              ],
              "nice": false,
              "padding": 5
             },
             "type": "quantitative"
            },
            "y": {
             "axis": {
              "title": "-Z'' [Ω]"
             },
             "field": "neg_z_imag",
             "scale": {
              "domain": [
               0.0002827724289657194,
               0.03397378912961108
              ],
              "nice": false,
              "padding": 5
             },
             "type": "quantitative"
            }
           },
           "height": 400,
           "mark": "circle",
           "selection": {
            "selector001": {
             "empty": "none",
             "fields": [
              "f"
             ],
             "nearest": true,
             "on": "mouseover",
             "type": "single"
            },
            "selector002": {
             "bind": "scales",
             "encodings": [
              "x",
              "y"
             ],
             "type": "interval"
            }
           },
           "transform": [
            {
             "as": "neg_z_imag",
             "calculate": "-datum.z_imag"
            }
           ],
           "width": 400
          }
         ]
        }
       ]
      },
      "image/png": "[encoded data removed]",
      "text/plain": [
       "<VegaLite 3 object>\n",
       "\n",
       "If you see this message, it means the renderer has not been properly enabled\n",
       "for the frontend that you are using. For more information, see\n",
       "https://altair-viz.github.io/user_guide/troubleshooting.html\n"
      ]
     },
     "execution_count": 4,
     "metadata": {},
     "output_type": "execute_result"
    }
   ],
   "source": [
    "circuit.plot(f_data=frequencies, Z_data=Z)"
   ]
  },
  {
   "cell_type": "markdown",
   "metadata": {},
   "source": [
    "### b. Nyquist plot via matplotlib"
   ]
  },
  {
   "cell_type": "code",
   "execution_count": 5,
   "metadata": {},
   "outputs": [
    {
     "data": {
      "image/png": "[encoded data removed]",
      "text/plain": [
       "<Figure size 360x360 with 1 Axes>"
      ]
     },
     "metadata": {},
     "output_type": "display_data"
    }
   ],
   "source": [
    "circuit.plot(f_data=frequencies, Z_data=Z, kind='nyquist')\n",
    "plt.show()"
   ]
  },
  {
   "cell_type": "markdown",
   "metadata": {},
   "source": [
    "### c. Bode plot via matplotlib"
   ]
  },
  {
   "cell_type": "code",
   "execution_count": 6,
   "metadata": {},
   "outputs": [
    {
     "data": {
      "image/png": "[encoded data removed]",
      "text/plain": [
       "<Figure size 360x360 with 2 Axes>"
      ]
     },
     "metadata": {},
     "output_type": "display_data"
    }
   ],
   "source": [
    "circuit.plot(f_data=frequencies, Z_data=Z, kind='bode')\n",
    "plt.show()"
   ]
  },
  {
   "cell_type": "markdown",
   "metadata": {},
   "source": [
    "### Bonus: Easy access to all the customization of matplotlib\n",
    "\n",
    "Here we plot the data, changing the size of the figure, axes label fontsize, and turning off the grid by accessing the plt.Axes() object, ax\n"
   ]
  },
  {
   "cell_type": "code",
   "execution_count": 7,
   "metadata": {},
   "outputs": [
    {
     "data": {
      "image/png": "[encoded data removed]",
      "text/plain": [
       "<Figure size 720x720 with 1 Axes>"
      ]
     },
     "metadata": {},
     "output_type": "display_data"
    }
   ],
   "source": [
    "fig, ax = plt.subplots(figsize=(10,10))\n",
    "ax = circuit.plot(ax, frequencies, Z, kind='nyquist')\n",
    "\n",
    "ax.tick_params(axis='both', which='major', labelsize=16)\n",
    "ax.grid(False)\n",
    "\n",
    "plt.show()"
   ]
  }
 ],
 "metadata": {
  "kernelspec": {
   "display_name": "Python 3",
   "language": "python",
   "name": "python3"
  },
  "language_info": {
   "codemirror_mode": {
    "name": "ipython",
    "version": 3
   },
   "file_extension": ".py",
   "mimetype": "text/x-python",
   "name": "python",
   "nbconvert_exporter": "python",
   "pygments_lexer": "ipython3",
   "version": "3.6.8"
  }
 },
 "nbformat": 4,
 "nbformat_minor": 4
}
