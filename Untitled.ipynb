{
 "cells": [
  {
   "cell_type": "code",
   "execution_count": 1,
   "metadata": {},
   "outputs": [],
   "source": [
    "import matplotlib.pyplot as plt\n",
    "import numpy as np\n",
    "\n",
    "from EISfit.circuits import Randles, FlexiCircuit\n",
    "from EISfit.validation import measModel"
   ]
  },
  {
   "cell_type": "code",
   "execution_count": 2,
   "metadata": {},
   "outputs": [
    {
     "name": "stdout",
     "output_type": "stream",
     "text": [
      "R-p(E1/E2,C)-R-R\n",
      "p(C,C)-p(E1/E2,C)-p(E1/E2,E1/E2)-R\n"
     ]
    }
   ],
   "source": [
    "from EISfit.genetic import generate_circuit\n",
    "a = generate_circuit(5)\n",
    "print(a)\n",
    "b = generate_circuit(5, parent=a)\n",
    "print(b)"
   ]
  },
  {
   "cell_type": "code",
   "execution_count": 3,
   "metadata": {},
   "outputs": [
    {
     "name": "stdout",
     "output_type": "stream",
     "text": [
      "0\n"
     ]
    }
   ],
   "source": [
    "print(b.count('W'))"
   ]
  },
  {
   "cell_type": "code",
   "execution_count": 4,
   "metadata": {},
   "outputs": [],
   "source": [
    "data = np.genfromtxt('./Z1tofit.csv', delimiter=',')\n",
    "\n",
    "frequencies = data[:,0]\n",
    "Z = data[:,1] + 1j*data[:,2]\n",
    "# print(data[:,1].tolist())\n",
    "# print(data[:,2].tolist())"
   ]
  },
  {
   "cell_type": "code",
   "execution_count": 5,
   "metadata": {},
   "outputs": [
    {
     "name": "stdout",
     "output_type": "stream",
     "text": [
      "R_0-p(R_1,C_1)\n",
      "R_0-p(R_1,C_1)-p(R_2,C_2)\n",
      "R_0-p(R_1,C_1)-p(R_2,C_2)-p(R_3,C_3)\n",
      "R_0-p(R_1,C_1)-p(R_2,C_2)-p(R_3,C_3)-p(R_4,C_4)\n",
      "R_0-p(R_1,C_1)-p(R_2,C_2)-p(R_3,C_3)-p(R_4,C_4)-p(R_5,C_5)\n",
      "R_0-p(R_1,C_1)-p(R_2,C_2)-p(R_3,C_3)-p(R_4,C_4)-p(R_5,C_5)-p(R_6,C_6)\n",
      "R_0-p(R_1,C_1)-p(R_2,C_2)-p(R_3,C_3)-p(R_4,C_4)-p(R_5,C_5)-p(R_6,C_6)-p(R_7,C_7)\n",
      "[[Custom circuit (fit values=[0.02012157 0.01693901 2.92576908],                     circuit=R_0-p(R_1,C_1)), Custom circuit (fit values=[1.93428864e-02 1.45112629e-02 1.87769933e+00 3.46636386e-02\n",
      " 1.17113863e+03],                     circuit=R_0-p(R_1,C_1)-p(R_2,C_2)), Custom circuit (fit values=[1.74634344e-02 7.88983841e-03 4.79654794e-01 9.65418753e-03\n",
      " 9.72339036e+00 3.63917926e-02 1.27455167e+03],                     circuit=R_0-p(R_1,C_1)-p(R_2,C_2)-p(R_3,C_3)), Custom circuit (fit values=[1.68010096e-02 8.77963072e-03 6.78784851e+02 5.53129969e-02\n",
      " 2.05347474e+03 6.18739498e-03 2.78363469e-01 1.01419682e-02\n",
      " 4.32515239e+00],                     circuit=R_0-p(R_1,C_1)-p(R_2,C_2)-p(R_3,C_3)-p(R_4,C_4)), Custom circuit (fit values=[1.63057050e-02 7.71908383e-03 2.20333414e+00 1.19288349e-02\n",
      " 5.61035432e+01 7.59431791e-04 3.45221668e+00 4.15534525e-03\n",
      " 1.96361429e-01 1.22659786e-09 3.59612689e+00],                     circuit=R_0-p(R_1,C_1)-p(R_2,C_2)-p(R_3,C_3)-p(R_4,C_4)-p(R_5,C_5)), Custom circuit (fit values=[1.59980123e-02 4.81176586e-04 7.61645553e-01 3.08609940e-03\n",
      " 1.82708760e-01 7.99281206e-10 2.12765042e+01 7.82385808e-03\n",
      " 3.63015041e+00 4.37117468e-03 1.44579200e+00 1.46612609e-02\n",
      " 3.96240510e+02],                     circuit=R_0-p(R_1,C_1)-p(R_2,C_2)-p(R_3,C_3)-p(R_4,C_4)-p(R_5,C_5)-p(R_6,C_6)), Custom circuit (fit values=[1.61266983e-02 1.73462005e-03 7.22779509e+00 6.18876592e-03\n",
      " 6.20919432e+00 4.95943306e-10 1.33959077e+00 2.03554057e-02\n",
      " 3.68118610e+02 2.36672900e-03 2.71763961e+00 1.46445247e-03\n",
      " 9.55000172e-01 2.93318104e-03 1.98628109e-01],                     circuit=R_0-p(R_1,C_1)-p(R_2,C_2)-p(R_3,C_3)-p(R_4,C_4)-p(R_5,C_5)-p(R_6,C_6)-p(R_7,C_7))], [(0.002725750244786113-0.0055066632420989105j), (0.0014029109291674665+0.00011833060713276041j), (0.0009447163220073371-0.00012915987361133976j), (0.00024821668879647005-0.0001899706872344742j), (0.0013451315166470947-0.005271563563917624j), (6.364999674774254e-05-0.004225963578826046j), (0.001060215615514016+0.0034101285289067688j)]]\n"
     ]
    }
   ],
   "source": [
    "error_list = measModel(frequencies[np.imag(Z) < 0], Z[np.imag(Z) < 0])\n",
    "print(error_list)"
   ]
  },
  {
   "cell_type": "code",
   "execution_count": null,
   "metadata": {},
   "outputs": [],
   "source": [
    "fig, ax = plt.subplots(figsize=(5,5))\n",
    "\n",
    "ax.plot(np.real(Z), -np.imag(Z), 'o')\n",
    "# ax.plot(np.real(Z_fitCPE), -np.imag(Z_fitCPE), lw=3)\n",
    "\n",
    "\n",
    "for i in range(7):\n",
    "    Z_fit = error_list[0][i].predict(frequencies[np.imag(Z) < 0])\n",
    "    ax.plot(np.real(Z_fit), -np.imag(Z_fit), lw=3, label = f'num RC elements = {i+1}')\n",
    "plt.show()"
   ]
  },
  {
   "cell_type": "code",
   "execution_count": null,
   "metadata": {},
   "outputs": [],
   "source": [
    "plt.plot(error_list[1])"
   ]
  },
  {
   "cell_type": "code",
   "execution_count": 5,
   "metadata": {},
   "outputs": [
    {
     "name": "stdout",
     "output_type": "stream",
     "text": [
      "R-C-C-C-C\n",
      "[ 2.92053059e-02  2.21702579e+01  8.24894568e+01  1.35473259e+02\n",
      " -1.56018225e+01]\n",
      "A-C-p(E1/E2,W1/W2)-C\n",
      "[ 1.59413043e-04  6.05291721e+00  8.02855414e-01  4.86906375e-06\n",
      "  3.69055918e-02  8.24591897e-01 -5.97889341e+00]\n",
      "W1/W2-C-W1/W2-E1/E2-W1/W2\n",
      "[4.69099684e-08 1.57227751e-01 1.11794521e-01 5.79282586e-08\n",
      " 1.57227753e-01 1.18176832e-01 9.96820958e-03 5.67399497e-08\n",
      " 1.57227753e-01]\n",
      "p(E1/E2,C)-C-R-W1/W2\n",
      "[ 6.14869029e+00  5.65096067e-06  4.16846014e+00  3.43597012e+00\n",
      "  1.72869401e-02 -3.07612694e-01  6.98530942e+00]\n",
      "p(W1/W2,R)-R-p(E1/E2,W1/W2)\n",
      "[2.75085301e-01 1.27616304e+01 2.43646474e-02 1.72938612e-02\n",
      " 5.11496886e-01 3.88230619e-08 5.47052788e-05 1.15857007e-01]\n",
      "W1/W2-W1/W2-E1/E2-C-E1/E2\n",
      "[2.52310679e-08 1.56898960e-01 2.31849554e-08 1.56898960e-01\n",
      " 1.26518755e-01 1.62674572e-02 1.11715557e-01 1.26518754e-01\n",
      " 1.62674365e-02]\n",
      "p(A,C)-W1/W2-C-C\n",
      "[ 2.58442141e-08  2.05334349e-01  1.06088669e-01  8.52426080e-02\n",
      "  1.02561627e+01 -9.84356060e+00]\n",
      "C-R-A-C-A\n",
      "[ 4.51382864e+01  3.06797899e-02  4.86458427e+02 -4.62138684e+01\n",
      " -4.86458530e+02]\n",
      "R-p(C,E1/E2)-R-W1/W2\n",
      "[1.41461991e-07 1.01272874e-01 1.03873725e-01 8.47964685e-02\n",
      " 2.78669017e-07 9.69545435e-02 1.02989400e-01]\n",
      "R-p(A,A)-A-A\n",
      "[2.09608794e-09 7.21299254e-02 7.21299254e-02 9.30324813e-02\n",
      " 9.30324814e-02]\n",
      "p(A,W1/W2)-A-R-A\n",
      "[ 3.77992851e-01  1.38229396e-01  4.51272306e+02  1.30188132e+00\n",
      "  2.55869254e-02 -1.30193607e+00]\n",
      "R-A-p(C,E1/E2)-R\n",
      "[3.41391984e-09 9.79161023e-02 1.02725528e-01 1.02050234e-01\n",
      " 9.54300867e-02 9.24240269e-08]\n",
      "p(R,A)-C-p(E1/E2,A)\n",
      "[ 3.74486251e-04  2.53819738e-01  4.08044620e-01  1.97203288e-01\n",
      "  9.60684385e-02 -1.59980566e-03]\n",
      "E1/E2-C-E1/E2-W1/W2-W1/W2\n",
      "[1.26518760e-01 1.62674330e-02 1.11715557e-01 1.26518760e-01\n",
      " 1.62674513e-02 3.30514860e-08 1.56898999e-01 3.96579793e-08\n",
      " 1.56899001e-01]\n",
      "C-W1/W2-A-E1/E2-R\n",
      "[ 1.11636345e-01  8.29056302e-09  1.65569195e-01  7.76974531e-02\n",
      "  1.19368899e-01  1.10159092e-02 -1.06533709e+00]\n",
      "E1/E2-A-C-C-R\n",
      "[ 1.15423426e-01  1.52218590e-08  8.34901853e-02  1.14619927e-01\n",
      "  1.14619927e-01 -7.39314404e-01]\n",
      "C-R-W1/W2-p(E1/E2,R)\n",
      "[ 1.11660638e-01  7.02532504e-02  7.37201930e-08  1.52154945e-01\n",
      "  1.18966709e-01 -1.54501759e+00  2.14337675e-01]\n",
      "E1/E2-A-C-R-A\n",
      "[ 1.23738359e-01  3.40645418e-08  5.99254424e-02  1.14773618e-01\n",
      " -1.53270158e+00  5.99254417e-02]\n",
      "W1/W2-A-W1/W2-A-A\n",
      "[ 5.27620537e-07  2.29784913e-01  4.60413568e+00  1.26712423e-04\n",
      "  2.41545138e-01  3.72885234e-01 -4.97679803e+00]\n",
      "p(E1/E2,R)-W1/W2-W1/W2-W1/W2\n",
      "[7.01690617e-02 1.40823496e-06 9.98777406e-02 9.97792491e-02\n",
      " 1.00220394e-01 9.97792491e-02 1.00220394e-01 9.97792491e-02\n",
      " 1.00220394e-01]\n",
      "R-R-R-C-R\n",
      "[   42.46410363  2380.77233234   923.86427512  1942.91682745\n",
      " -3347.07150579]\n",
      "p(A,A)-R-E1/E2-A\n",
      "[ 4.76357981e+01  4.66905539e+01  1.87614244e-05  7.95185123e-01\n",
      "  1.01092242e-01 -2.35801090e+01]\n",
      "A-E1/E2-W1/W2-W1/W2-C\n",
      "[7.71261817e-02 1.19316518e-01 1.42466116e-02 4.27495783e-08\n",
      " 1.57273078e-01 3.43761404e-08 1.57273078e-01 1.11717474e-01]\n",
      "A-R-W1/W2-R-A\n",
      "[9.31220101e-02 4.67416656e-08 9.66135601e-02 1.03309611e-01\n",
      " 6.46323555e-08 9.31220101e-02]\n",
      "A-p(W1/W2,E1/E2)-C-W1/W2\n",
      "[9.84644863e-02 1.12207774e-01 8.67254941e-02 1.27263246e-01\n",
      " 1.73474850e-08 1.01511472e-01 8.54290839e-02 1.13246558e-01]\n",
      "p(E1/E2,W1/W2)-R-E1/E2-W1/W2\n",
      "[1.04300271e-01 8.94918693e-02 9.71021432e-02 1.02854961e-01\n",
      " 2.49886400e-07 1.01425373e-01 9.79325749e-02 9.86947955e-02\n",
      " 1.01297420e-01]\n",
      "A-A-p(R,R)-E1/E2\n",
      "[9.94122734e-02 9.94122734e-02 8.99401611e-07 8.99401611e-07\n",
      " 1.00271498e-01 1.00188874e-01]\n",
      "C-E1/E2-W1/W2-W1/W2-A\n",
      "[1.11734491e-01 1.19249953e-01 1.43663776e-02 8.55682180e-09\n",
      " 1.56494189e-01 1.10702377e-08 1.56494191e-01 7.71708349e-02]\n",
      "A-C-E1/E2-W1/W2-C\n",
      "[8.73652717e-02 1.11365050e-01 1.15035935e-01 4.74854303e-03\n",
      " 3.94539804e-08 1.73544624e-01 1.11365050e-01]\n",
      "E1/E2-R-A-R-R\n",
      "[1.01132283e-01 1.00413078e-01 2.54155291e-07 9.83416986e-02\n",
      " 2.48620696e-07 3.30779821e-07]\n",
      "[[4.548587159382428e-05, 'R-C-C-C-C'], [0.039315591084222896, 'A-C-p(E1/E2,W1/W2)-C'], [4855.989696316218, 'W1/W2-C-W1/W2-E1/E2-W1/W2'], [3.6635406585563834, 'p(E1/E2,C)-C-R-W1/W2'], [2.9621042870256668e-06, 'p(W1/W2,R)-R-p(E1/E2,W1/W2)'], [4955.46950961904, 'W1/W2-W1/W2-E1/E2-C-E1/E2'], [92.56826991716919, 'p(A,C)-W1/W2-C-C'], [3.945460198855013e-05, 'C-R-A-C-A'], [82.7752214517122, 'R-p(C,E1/E2)-R-W1/W2'], [33.22574523402632, 'R-p(A,A)-A-A'], [1.2477176264154517e-05, 'p(A,W1/W2)-A-R-A'], [27.41460178999941, 'R-A-p(C,E1/E2)-R'], [361.4551560369193, 'p(R,A)-C-p(E1/E2,A)'], [4955.469649640235, 'E1/E2-C-E1/E2-W1/W2-W1/W2'], [4873.682706856182, 'C-W1/W2-A-E1/E2-R'], [18377.23303168484, 'E1/E2-A-C-C-R'], [4825.658120006164, 'C-R-W1/W2-p(E1/E2,R)'], [4613.373764223852, 'E1/E2-A-C-R-A'], [0.0004374750143970768, 'W1/W2-A-W1/W2-A-A'], [536.9389827228401, 'p(E1/E2,R)-W1/W2-W1/W2-W1/W2'], [4.54858715938276e-05, 'R-R-R-C-R'], [0.5835815631620386, 'p(A,A)-R-E1/E2-A'], [4876.98925832264, 'A-E1/E2-W1/W2-W1/W2-C'], [76.17989143941084, 'A-R-W1/W2-R-A'], [6870.374297079224, 'A-p(W1/W2,E1/E2)-C-W1/W2'], [154.0703449171506, 'p(E1/E2,W1/W2)-R-E1/E2-W1/W2'], [82.0014749308862, 'A-A-p(R,R)-E1/E2'], [4875.617749593844, 'C-E1/E2-W1/W2-W1/W2-A'], [19476.6600539475, 'A-C-E1/E2-W1/W2-C'], [52.90783574215678, 'E1/E2-R-A-R-R']]\n"
     ]
    },
    {
     "data": {
      "text/plain": [
       "[[4.548587159382428e-05, 'R-C-C-C-C'],\n",
       " [0.039315591084222896, 'A-C-p(E1/E2,W1/W2)-C'],\n",
       " [4855.989696316218, 'W1/W2-C-W1/W2-E1/E2-W1/W2'],\n",
       " [3.6635406585563834, 'p(E1/E2,C)-C-R-W1/W2'],\n",
       " [2.9621042870256668e-06, 'p(W1/W2,R)-R-p(E1/E2,W1/W2)'],\n",
       " [4955.46950961904, 'W1/W2-W1/W2-E1/E2-C-E1/E2'],\n",
       " [92.56826991716919, 'p(A,C)-W1/W2-C-C'],\n",
       " [3.945460198855013e-05, 'C-R-A-C-A'],\n",
       " [82.7752214517122, 'R-p(C,E1/E2)-R-W1/W2'],\n",
       " [33.22574523402632, 'R-p(A,A)-A-A'],\n",
       " [1.2477176264154517e-05, 'p(A,W1/W2)-A-R-A'],\n",
       " [27.41460178999941, 'R-A-p(C,E1/E2)-R'],\n",
       " [361.4551560369193, 'p(R,A)-C-p(E1/E2,A)'],\n",
       " [4955.469649640235, 'E1/E2-C-E1/E2-W1/W2-W1/W2'],\n",
       " [4873.682706856182, 'C-W1/W2-A-E1/E2-R'],\n",
       " [18377.23303168484, 'E1/E2-A-C-C-R'],\n",
       " [4825.658120006164, 'C-R-W1/W2-p(E1/E2,R)'],\n",
       " [4613.373764223852, 'E1/E2-A-C-R-A'],\n",
       " [0.0004374750143970768, 'W1/W2-A-W1/W2-A-A'],\n",
       " [536.9389827228401, 'p(E1/E2,R)-W1/W2-W1/W2-W1/W2'],\n",
       " [4.54858715938276e-05, 'R-R-R-C-R'],\n",
       " [0.5835815631620386, 'p(A,A)-R-E1/E2-A'],\n",
       " [4876.98925832264, 'A-E1/E2-W1/W2-W1/W2-C'],\n",
       " [76.17989143941084, 'A-R-W1/W2-R-A'],\n",
       " [6870.374297079224, 'A-p(W1/W2,E1/E2)-C-W1/W2'],\n",
       " [154.0703449171506, 'p(E1/E2,W1/W2)-R-E1/E2-W1/W2'],\n",
       " [82.0014749308862, 'A-A-p(R,R)-E1/E2'],\n",
       " [4875.617749593844, 'C-E1/E2-W1/W2-W1/W2-A'],\n",
       " [19476.6600539475, 'A-C-E1/E2-W1/W2-C'],\n",
       " [52.90783574215678, 'E1/E2-R-A-R-R']]"
      ]
     },
     "execution_count": 5,
     "metadata": {},
     "output_type": "execute_result"
    }
   ],
   "source": [
    "# f = FlexiCircuit(generations=1)\n",
    "# f.fit(frequencies[np.imag(Z) < 0], Z[np.imag(Z) < 0])"
   ]
  },
  {
   "cell_type": "code",
   "execution_count": 5,
   "metadata": {},
   "outputs": [
    {
     "data": {
      "image/png": "[encoded data removed]",
      "text/plain": [
       "<Figure size 360x360 with 1 Axes>"
      ]
     },
     "metadata": {},
     "output_type": "display_data"
    }
   ],
   "source": [
    "fig, ax = plt.subplots(figsize=(5,5))\n",
    "\n",
    "ax.plot(np.real(Z), -np.imag(Z), 'o')\n",
    "plt.show()"
   ]
  },
  {
   "cell_type": "code",
   "execution_count": 6,
   "metadata": {},
   "outputs": [
    {
     "name": "stdout",
     "output_type": "stream",
     "text": [
      "Randles circuit (initial_guess=[0.01, 0.005, 0.1, 0.0001, 200], circuit=R_0-p(R_1,C_1)-W_1/W_2)\n",
      "True\n",
      "Randles circuit (fit values=[1.86146620e-02 1.15477171e-02 1.33331949e+00 6.31473571e-02\n",
      " 2.22407275e+02], circuit=R_0-p(R_1,C_1)-W_1/W_2)\n"
     ]
    }
   ],
   "source": [
    "# Create a new Randles model object\n",
    "# r = Randles(initial_guess = [0.1, 'hi'])\n",
    "randles = Randles(initial_guess=[.01, .005, .1, .0001, 200])\n",
    "print(randles.__repr__())\n",
    "randlesCPE = Randles(initial_guess=[.01, .005, .1, .9, .0001, 200], CPE=True)\n",
    "\n",
    "# Fit the model to the data\n",
    "randles.fit(frequencies[np.imag(Z) < 0], Z[np.imag(Z) < 0])\n",
    "randlesCPE.fit(frequencies[np.imag(Z) < 0], Z[np.imag(Z) < 0])\n",
    "\n",
    "# Calculate the model prediction\n",
    "Z_fit = randles.predict(frequencies)\n",
    "Z_fitCPE = randlesCPE.predict(frequencies)\n",
    "\n",
    "print(randles.__repr__())"
   ]
  },
  {
   "cell_type": "code",
   "execution_count": 14,
   "metadata": {},
   "outputs": [
    {
     "data": {
      "image/png": "[encoded data removed]",
      "text/plain": [
       "<Figure size 360x360 with 1 Axes>"
      ]
     },
     "metadata": {},
     "output_type": "display_data"
    }
   ],
   "source": [
    "from EISfit.circuits import DefineCircuit\n",
    "custom = DefineCircuit(initial_guess=[.01, .005, .1, .9, .0001, 200], \n",
    "                       circuit='R_0-p(R_1,E_1/E_2)-W_1/W_2')\n",
    "custom.fit(frequencies[np.imag(Z) < 0], Z[np.imag(Z) < 0])\n",
    "# Calculate the model prediction\n",
    "Z_fit = custom.predict(frequencies)\n",
    "fig, ax = plt.subplots(figsize=(5,5))\n",
    "\n",
    "ax.plot(np.real(Z), -np.imag(Z), 'o')\n",
    "ax.plot(np.real(Z_fit), -np.imag(Z_fit), lw=3)\n",
    "# ax.plot(np.real(Z_fitCPE), -np.imag(Z_fitCPE), lw=3)\n",
    "\n",
    "plt.show()"
   ]
  },
  {
   "cell_type": "code",
   "execution_count": 7,
   "metadata": {},
   "outputs": [
    {
     "name": "stdout",
     "output_type": "stream",
     "text": [
      "190 ms ± 4.04 ms per loop (mean ± std. dev. of 7 runs, 1 loop each)\n"
     ]
    }
   ],
   "source": [
    "%timeit randles.fit(frequencies[np.imag(Z) < 0], Z[np.imag(Z) < 0])\n"
   ]
  },
  {
   "cell_type": "code",
   "execution_count": 16,
   "metadata": {},
   "outputs": [
    {
     "name": "stdout",
     "output_type": "stream",
     "text": [
      "[0.05075057-0.01944489j 0.04861634-0.01731509j 0.04674066-0.01543542j\n",
      " 0.04506902-0.01377719j 0.04357254-0.01230636j 0.04223427-0.01099867j\n",
      " 0.04103845-0.00983727j 0.03996887-0.00880719j 0.03901132-0.00789521j\n",
      " 0.03815298-0.00708939j 0.03738209-0.00637901j 0.03668828-0.00575488j\n",
      " 0.03606207-0.00520887j 0.03549484-0.00473391j 0.03497869-0.00432384j\n",
      " 0.03450636-0.00397336j 0.03407108-0.00367793j 0.0336664 -0.0034336j\n",
      " 0.03328634-0.00323712j 0.03292509-0.0030857j  0.03257687-0.00297686j\n",
      " 0.03223606-0.00290851j 0.03189698-0.00287866j 0.03155392-0.00288537j\n",
      " 0.03120106-0.00292653j 0.03083253-0.00299968j 0.03044251-0.00310177j\n",
      " 0.03002515-0.00322902j 0.02957517-0.00337657j 0.02908794-0.00353839j\n",
      " 0.02855978-0.00370725j 0.02798871-0.00387468j 0.0273748 -0.00403131j\n",
      " 0.02672062-0.0041673j  0.02603152-0.00427306j 0.02531562-0.00434011j\n",
      " 0.02458349-0.00436186j 0.02384714-0.00433445j 0.02311969-0.00425707j\n",
      " 0.02241373-0.0041321j  0.02174028-0.00396466j 0.02110838-0.00376199j\n",
      " 0.02052439-0.00353254j 0.019992  -0.00328515j 0.01951241-0.00302826j\n",
      " 0.01908481-0.0027694j  0.01870683-0.00251486j 0.01837496-0.00226947j\n",
      " 0.01808526-0.00203689j 0.01783348-0.00181949j 0.01761532-0.00161859j\n",
      " 0.01742674-0.00143475j 0.01726399-0.00126789j 0.01712368-0.00111748j\n",
      " 0.01700279-0.00098267j 0.01689864-0.00086244j 0.01680892-0.00075567j\n",
      " 0.0167316 -0.00066114j 0.01666495-0.00057774j 0.01660748-0.00050433j\n",
      " 0.0165579 -0.00043985j 0.0165151 -0.00038332j 0.01647814-0.00033383j\n",
      " 0.01644621-0.00029057j 0.01641861-0.00025279j 0.01639474-0.00021984j]\n"
     ]
    },
    {
     "data": {
      "text/plain": [
       "(0.00030394969640051926-0.001997847849844601j)"
      ]
     },
     "execution_count": 16,
     "metadata": {},
     "output_type": "execute_result"
    }
   ],
   "source": [
    "print(Z_fit)\n",
    "def rmse(a, b):\n",
    "    return(np.sqrt(np.mean(np.square(a-b))))\n",
    "rmse(Z_fit, Z)"
   ]
  },
  {
   "cell_type": "code",
   "execution_count": 12,
   "metadata": {},
   "outputs": [
    {
     "data": {
      "text/plain": [
       "[[0.1, 0.1, 0.1],\n",
       " [-503.2885655753576j, -1.5915494309189535j, -0.0015915494309189533j],\n",
       " [(0.03333332999119107-25.16443710957406j),\n",
       "  (0.03300437046673636-0.08232866785870396j),\n",
       "  (0.0019947114020071634-0.0019947114020071634j)],\n",
       " [(0.014095856446805211-0.014095856446805211j),\n",
       "  (0.25066282746310004-0.25066282746310004j),\n",
       "  (7.926654595212021-7.926654595212021j)],\n",
       " [(20.824267708927916-6.7662147382575775j),\n",
       "  (6.585220960717245-2.1396679941828154j),\n",
       "  (1.6541327179718126-0.537460300252313j)],\n",
       " [(0.2227851024868618-0.011039297623348644j),\n",
       "  (0.028647452492431665-0.02775008505285708j),\n",
       "  (0.0008920762553460424-0.0008920478601288429j)]]"
      ]
     },
     "execution_count": 12,
     "metadata": {},
     "output_type": "execute_result"
    }
   ],
   "source": [
    "# get benchmark values\n",
    "from EISfit.circuit_elements import *\n",
    "def test_all():\n",
    "    funcs = [R,C,W,A,E,G]\n",
    "    freqs = [0.0031623, 1.0, 1000]\n",
    "    correct_vals = [[0.1,0.1,0.1],[]]\n",
    "    input_vals = [0.1,0.2]\n",
    "    inputs = [1,1,2,1,2,2]\n",
    "    count = 0\n",
    "    val_list = []\n",
    "    for f in funcs:\n",
    "        val = f(input_vals[:inputs[count]],freqs)\n",
    "        val_list.append(list(val))\n",
    "#         for j in range(len(correct_vals[count]))\n",
    "#             assert cmath.isclose(val[j],correct_vals[count][j])\n",
    "        \n",
    "        count+=1\n",
    "    return val_list\n",
    "test_all()"
   ]
  },
  {
   "cell_type": "code",
   "execution_count": 9,
   "metadata": {},
   "outputs": [
    {
     "name": "stdout",
     "output_type": "stream",
     "text": [
      "myfun\n",
      "['A', 'C', 'E', 'G', 'R', 'W', '__builtins__', '__cached__', '__doc__', '__file__', '__loader__', '__name__', '__package__', '__spec__', 'cmath', 'np', 'p', 's']\n"
     ]
    }
   ],
   "source": [
    "def myfun():\n",
    "    print(myfun.__name__)\n",
    "myfun()\n",
    "import EISfit\n",
    "print(dir(EISfit.circuit_elements))"
   ]
  },
  {
   "cell_type": "code",
   "execution_count": 5,
   "metadata": {},
   "outputs": [
    {
     "data": {
      "image/png": "[encoded data removed]",
      "text/plain": [
       "<Figure size 360x360 with 1 Axes>"
      ]
     },
     "metadata": {},
     "output_type": "display_data"
    }
   ],
   "source": [
    "fig, ax = plt.subplots(figsize=(5,5))\n",
    "\n",
    "ax.plot(np.real(Z), -np.imag(Z), 'o')\n",
    "ax.plot(np.real(Z_fit), -np.imag(Z_fit), lw=3)\n",
    "ax.plot(np.real(Z_fitCPE), -np.imag(Z_fitCPE), lw=3)\n",
    "\n",
    "plt.show()"
   ]
  },
  {
   "cell_type": "code",
   "execution_count": null,
   "metadata": {},
   "outputs": [],
   "source": []
  }
 ],
 "metadata": {
  "kernelspec": {
   "display_name": "Python 3",
   "language": "python",
   "name": "python3"
  },
  "language_info": {
   "codemirror_mode": {
    "name": "ipython",
    "version": 3
   },
   "file_extension": ".py",
   "mimetype": "text/x-python",
   "name": "python",
   "nbconvert_exporter": "python",
   "pygments_lexer": "ipython3",
   "version": "3.6.4"
  }
 },
 "nbformat": 4,
 "nbformat_minor": 2
}
